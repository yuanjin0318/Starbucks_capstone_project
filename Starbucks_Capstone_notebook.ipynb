{
 "cells": [
  {
   "cell_type": "markdown",
   "metadata": {},
   "source": [
    "# Starbucks Capstone Challenge\n",
    "\n",
    "### Introduction\n",
    "\n",
    "This data set contains simulated data that mimics customer behavior on the Starbucks rewards mobile app. Once every few days, Starbucks sends out an offer to users of the mobile app. An offer can be merely an advertisement for a drink or an actual offer such as a discount or BOGO (buy one get one free). Some users might not receive any offer during certain weeks. \n",
    "\n",
    "Not all users receive the same offer, and that is the challenge to solve with this data set.\n",
    "\n",
    "Your task is to combine transaction, demographic and offer data to determine which demographic groups respond best to which offer type. This data set is a simplified version of the real Starbucks app because the underlying simulator only has one product whereas Starbucks actually sells dozens of products.\n",
    "\n",
    "Every offer has a validity period before the offer expires. As an example, a BOGO offer might be valid for only 5 days. You'll see in the data set that informational offers have a validity period even though these ads are merely providing information about a product; for example, if an informational offer has 7 days of validity, you can assume the customer is feeling the influence of the offer for 7 days after receiving the advertisement.\n",
    "\n",
    "You'll be given transactional data showing user purchases made on the app including the timestamp of purchase and the amount of money spent on a purchase. This transactional data also has a record for each offer that a user receives as well as a record for when a user actually views the offer. There are also records for when a user completes an offer. \n",
    "\n",
    "Keep in mind as well that someone using the app might make a purchase through the app without having received an offer or seen an offer.\n",
    "\n",
    "### Example\n",
    "\n",
    "To give an example, a user could receive a discount offer buy 10 dollars get 2 off on Monday. The offer is valid for 10 days from receipt. If the customer accumulates at least 10 dollars in purchases during the validity period, the customer completes the offer.\n",
    "\n",
    "However, there are a few things to watch out for in this data set. Customers do not opt into the offers that they receive; in other words, a user can receive an offer, never actually view the offer, and still complete the offer. For example, a user might receive the \"buy 10 dollars get 2 dollars off offer\", but the user never opens the offer during the 10 day validity period. The customer spends 15 dollars during those ten days. There will be an offer completion record in the data set; however, the customer was not influenced by the offer because the customer never viewed the offer.\n",
    "\n",
    "### Cleaning\n",
    "\n",
    "This makes data cleaning especially important and tricky.\n",
    "\n",
    "You'll also want to take into account that some demographic groups will make purchases even if they don't receive an offer. From a business perspective, if a customer is going to make a 10 dollar purchase without an offer anyway, you wouldn't want to send a buy 10 dollars get 2 dollars off offer. You'll want to try to assess what a certain demographic group will buy when not receiving any offers.\n",
    "\n",
    "### Final Advice\n",
    "\n",
    "Because this is a capstone project, you are free to analyze the data any way you see fit. For example, you could build a machine learning model that predicts how much someone will spend based on demographics and offer type. Or you could build a model that predicts whether or not someone will respond to an offer. Or, you don't need to build a machine learning model at all. You could develop a set of heuristics that determine what offer you should send to each customer (i.e., 75 percent of women customers who were 35 years old responded to offer A vs 40 percent from the same demographic to offer B, so send offer A)."
   ]
  },
  {
   "cell_type": "markdown",
   "metadata": {},
   "source": [
    "# Data Sets\n",
    "\n",
    "The data is contained in three files:\n",
    "\n",
    "* portfolio.json - containing offer ids and meta data about each offer (duration, type, etc.)\n",
    "* profile.json - demographic data for each customer\n",
    "* transcript.json - records for transactions, offers received, offers viewed, and offers completed\n",
    "\n",
    "Here is the schema and explanation of each variable in the files:\n",
    "\n",
    "**portfolio.json**\n",
    "* id (string) - offer id\n",
    "* offer_type (string) - type of offer ie BOGO, discount, informational\n",
    "* difficulty (int) - minimum required spend to complete an offer\n",
    "* reward (int) - reward given for completing an offer\n",
    "* duration (int) - time for offer to be open, in days\n",
    "* channels (list of strings)\n",
    "\n",
    "**profile.json**\n",
    "* age (int) - age of the customer \n",
    "* became_member_on (int) - date when customer created an app account\n",
    "* gender (str) - gender of the customer (note some entries contain 'O' for other rather than M or F)\n",
    "* id (str) - customer id\n",
    "* income (float) - customer's income\n",
    "\n",
    "**transcript.json**\n",
    "* event (str) - record description (ie transaction, offer received, offer viewed, etc.)\n",
    "* person (str) - customer id\n",
    "* time (int) - time in hours since start of test. The data begins at time t=0\n",
    "* value - (dict of strings) - either an offer id or transaction amount depending on the record"
   ]
  },
  {
   "cell_type": "markdown",
   "metadata": {},
   "source": [
    "In this data analysis, since we are going to investigate the impact of each offer type on the customers. My strategy for solving this problem has four steps. First, I will combine the offer portfolio, customer profile, and transaction data. Each row of this combined dataset will describe an offer's attributes, customer demographic data, and whether the offer was successful. Second, I will assess the accuracy to juedge my model. This provides me a baseline for evaluating the performance of models that I construct. Accuracy measures how well a model correctly predicts whether an offer is successful. In other words, we will use accuracy as the main metric to understand the pro and cons of our machine learning model, which is much more intuitive and direct for the decision-makers compared to other metrics like F-1 score."
   ]
  },
  {
   "cell_type": "code",
   "execution_count": 3,
   "metadata": {},
   "outputs": [
    {
     "name": "stderr",
     "output_type": "stream",
     "text": [
      "UsageError: Line magic function `%` not found.\n"
     ]
    }
   ],
   "source": [
    "# Import all the necessary library\n",
    "import pandas as pd\n",
    "import numpy as np\n",
    "import math\n",
    "import json\n",
    "import matplotlib.pyplot as plt\n",
    "import seaborn as sb \n",
    "import warnings\n",
    "import statsmodels.api as sm\n",
    "from datetime import datetime\n",
    "from time import time\n",
    "\n",
    "from sklearn.ensemble import AdaBoostClassifier\n",
    "from sklearn.neighbors import KNeighborsClassifier\n",
    "from sklearn.linear_model import LogisticRegression\n",
    "from sklearn.tree import DecisionTreeClassifier\n",
    "from sklearn.svm import SVC\n",
    "from sklearn.ensemble import RandomForestRegressor,RandomForestClassifier\n",
    "from sklearn.naive_bayes import GaussianNB\n",
    "from sklearn.metrics import accuracy_score,f1_score, confusion_matrix, recall_score\n",
    "from sklearn.model_selection import train_test_split,GridSearchCV, cross_validate\n",
    "from sklearn import metrics\n",
    "import xgboost\n",
    "% matplotlib inline"
   ]
  },
  {
   "cell_type": "code",
   "execution_count": 2,
   "metadata": {},
   "outputs": [],
   "source": [
    "# read in the json files\n",
    "portfolio = pd.read_json('data/portfolio.json', orient='records', lines=True)\n",
    "profile = pd.read_json('data/profile.json', orient='records', lines=True)\n",
    "transcript = pd.read_json('data/transcript.json', orient='records', lines=True)"
   ]
  },
  {
   "cell_type": "markdown",
   "metadata": {},
   "source": [
    "# 1. Data Analysis (Data Exploraion & Data Visualization)"
   ]
  },
  {
   "cell_type": "markdown",
   "metadata": {},
   "source": [
    "## 1.1. Data Exploration"
   ]
  },
  {
   "cell_type": "markdown",
   "metadata": {},
   "source": [
    "### 1.1.1 Data Review for \"portfolio\" "
   ]
  },
  {
   "cell_type": "code",
   "execution_count": 3,
   "metadata": {},
   "outputs": [
    {
     "data": {
      "text/html": [
       "<div>\n",
       "<style scoped>\n",
       "    .dataframe tbody tr th:only-of-type {\n",
       "        vertical-align: middle;\n",
       "    }\n",
       "\n",
       "    .dataframe tbody tr th {\n",
       "        vertical-align: top;\n",
       "    }\n",
       "\n",
       "    .dataframe thead th {\n",
       "        text-align: right;\n",
       "    }\n",
       "</style>\n",
       "<table border=\"1\" class=\"dataframe\">\n",
       "  <thead>\n",
       "    <tr style=\"text-align: right;\">\n",
       "      <th></th>\n",
       "      <th>reward</th>\n",
       "      <th>channels</th>\n",
       "      <th>difficulty</th>\n",
       "      <th>duration</th>\n",
       "      <th>offer_type</th>\n",
       "      <th>id</th>\n",
       "    </tr>\n",
       "  </thead>\n",
       "  <tbody>\n",
       "    <tr>\n",
       "      <th>0</th>\n",
       "      <td>10</td>\n",
       "      <td>[email, mobile, social]</td>\n",
       "      <td>10</td>\n",
       "      <td>7</td>\n",
       "      <td>bogo</td>\n",
       "      <td>ae264e3637204a6fb9bb56bc8210ddfd</td>\n",
       "    </tr>\n",
       "    <tr>\n",
       "      <th>1</th>\n",
       "      <td>10</td>\n",
       "      <td>[web, email, mobile, social]</td>\n",
       "      <td>10</td>\n",
       "      <td>5</td>\n",
       "      <td>bogo</td>\n",
       "      <td>4d5c57ea9a6940dd891ad53e9dbe8da0</td>\n",
       "    </tr>\n",
       "    <tr>\n",
       "      <th>2</th>\n",
       "      <td>0</td>\n",
       "      <td>[web, email, mobile]</td>\n",
       "      <td>0</td>\n",
       "      <td>4</td>\n",
       "      <td>informational</td>\n",
       "      <td>3f207df678b143eea3cee63160fa8bed</td>\n",
       "    </tr>\n",
       "    <tr>\n",
       "      <th>3</th>\n",
       "      <td>5</td>\n",
       "      <td>[web, email, mobile]</td>\n",
       "      <td>5</td>\n",
       "      <td>7</td>\n",
       "      <td>bogo</td>\n",
       "      <td>9b98b8c7a33c4b65b9aebfe6a799e6d9</td>\n",
       "    </tr>\n",
       "    <tr>\n",
       "      <th>4</th>\n",
       "      <td>5</td>\n",
       "      <td>[web, email]</td>\n",
       "      <td>20</td>\n",
       "      <td>10</td>\n",
       "      <td>discount</td>\n",
       "      <td>0b1e1539f2cc45b7b9fa7c272da2e1d7</td>\n",
       "    </tr>\n",
       "  </tbody>\n",
       "</table>\n",
       "</div>"
      ],
      "text/plain": [
       "   reward                      channels  difficulty  duration     offer_type  \\\n",
       "0      10       [email, mobile, social]          10         7           bogo   \n",
       "1      10  [web, email, mobile, social]          10         5           bogo   \n",
       "2       0          [web, email, mobile]           0         4  informational   \n",
       "3       5          [web, email, mobile]           5         7           bogo   \n",
       "4       5                  [web, email]          20        10       discount   \n",
       "\n",
       "                                 id  \n",
       "0  ae264e3637204a6fb9bb56bc8210ddfd  \n",
       "1  4d5c57ea9a6940dd891ad53e9dbe8da0  \n",
       "2  3f207df678b143eea3cee63160fa8bed  \n",
       "3  9b98b8c7a33c4b65b9aebfe6a799e6d9  \n",
       "4  0b1e1539f2cc45b7b9fa7c272da2e1d7  "
      ]
     },
     "execution_count": 3,
     "metadata": {},
     "output_type": "execute_result"
    }
   ],
   "source": [
    "# Quick check the portfolio information \n",
    "portfolio.head()"
   ]
  },
  {
   "cell_type": "markdown",
   "metadata": {},
   "source": [
    "### 1.1.2 Data Review for \"profile\" "
   ]
  },
  {
   "cell_type": "code",
   "execution_count": 4,
   "metadata": {},
   "outputs": [
    {
     "data": {
      "text/html": [
       "<div>\n",
       "<style scoped>\n",
       "    .dataframe tbody tr th:only-of-type {\n",
       "        vertical-align: middle;\n",
       "    }\n",
       "\n",
       "    .dataframe tbody tr th {\n",
       "        vertical-align: top;\n",
       "    }\n",
       "\n",
       "    .dataframe thead th {\n",
       "        text-align: right;\n",
       "    }\n",
       "</style>\n",
       "<table border=\"1\" class=\"dataframe\">\n",
       "  <thead>\n",
       "    <tr style=\"text-align: right;\">\n",
       "      <th></th>\n",
       "      <th>gender</th>\n",
       "      <th>age</th>\n",
       "      <th>id</th>\n",
       "      <th>became_member_on</th>\n",
       "      <th>income</th>\n",
       "    </tr>\n",
       "  </thead>\n",
       "  <tbody>\n",
       "    <tr>\n",
       "      <th>0</th>\n",
       "      <td>None</td>\n",
       "      <td>118</td>\n",
       "      <td>68be06ca386d4c31939f3a4f0e3dd783</td>\n",
       "      <td>20170212</td>\n",
       "      <td>NaN</td>\n",
       "    </tr>\n",
       "    <tr>\n",
       "      <th>1</th>\n",
       "      <td>F</td>\n",
       "      <td>55</td>\n",
       "      <td>0610b486422d4921ae7d2bf64640c50b</td>\n",
       "      <td>20170715</td>\n",
       "      <td>112000.0</td>\n",
       "    </tr>\n",
       "    <tr>\n",
       "      <th>2</th>\n",
       "      <td>None</td>\n",
       "      <td>118</td>\n",
       "      <td>38fe809add3b4fcf9315a9694bb96ff5</td>\n",
       "      <td>20180712</td>\n",
       "      <td>NaN</td>\n",
       "    </tr>\n",
       "    <tr>\n",
       "      <th>3</th>\n",
       "      <td>F</td>\n",
       "      <td>75</td>\n",
       "      <td>78afa995795e4d85b5d9ceeca43f5fef</td>\n",
       "      <td>20170509</td>\n",
       "      <td>100000.0</td>\n",
       "    </tr>\n",
       "    <tr>\n",
       "      <th>4</th>\n",
       "      <td>None</td>\n",
       "      <td>118</td>\n",
       "      <td>a03223e636434f42ac4c3df47e8bac43</td>\n",
       "      <td>20170804</td>\n",
       "      <td>NaN</td>\n",
       "    </tr>\n",
       "  </tbody>\n",
       "</table>\n",
       "</div>"
      ],
      "text/plain": [
       "  gender  age                                id  became_member_on    income\n",
       "0   None  118  68be06ca386d4c31939f3a4f0e3dd783          20170212       NaN\n",
       "1      F   55  0610b486422d4921ae7d2bf64640c50b          20170715  112000.0\n",
       "2   None  118  38fe809add3b4fcf9315a9694bb96ff5          20180712       NaN\n",
       "3      F   75  78afa995795e4d85b5d9ceeca43f5fef          20170509  100000.0\n",
       "4   None  118  a03223e636434f42ac4c3df47e8bac43          20170804       NaN"
      ]
     },
     "execution_count": 4,
     "metadata": {},
     "output_type": "execute_result"
    }
   ],
   "source": [
    "# Quick check the profile information\n",
    "profile.head()"
   ]
  },
  {
   "cell_type": "code",
   "execution_count": 5,
   "metadata": {},
   "outputs": [
    {
     "data": {
      "text/plain": [
       "gender              2175\n",
       "age                    0\n",
       "id                     0\n",
       "became_member_on       0\n",
       "income              2175\n",
       "dtype: int64"
      ]
     },
     "execution_count": 5,
     "metadata": {},
     "output_type": "execute_result"
    }
   ],
   "source": [
    "#check the NaN information\n",
    "profile.isnull().sum()"
   ]
  },
  {
   "cell_type": "markdown",
   "metadata": {},
   "source": [
    "It can be seen that for the number of NaN in gender column is same as the number of NaN in income column. one assumption is that for the people who did not provide the gender information, they neither provide the income information, let us have a look if the assumption is correct or not!"
   ]
  },
  {
   "cell_type": "code",
   "execution_count": 6,
   "metadata": {},
   "outputs": [
    {
     "name": "stdout",
     "output_type": "stream",
     "text": [
      "The total number of NaN is:  4350\n",
      "The total number of NaN （for the users whose gender are known）:  0\n"
     ]
    }
   ],
   "source": [
    "#check the NaN information to see the match informtion of NaN\n",
    "totalNaN = profile.isnull().sum().sum()\n",
    "totalNaN_withgenderinfor =profile.query('gender == \"F\" or gender == \"M\"').isnull().sum().sum()\n",
    "print('The total number of NaN is: ',totalNaN)\n",
    "print('The total number of NaN （for the users whose gender are known）: ',totalNaN_withgenderinfor)"
   ]
  },
  {
   "cell_type": "code",
   "execution_count": 7,
   "metadata": {},
   "outputs": [
    {
     "data": {
      "text/html": [
       "<div>\n",
       "<style scoped>\n",
       "    .dataframe tbody tr th:only-of-type {\n",
       "        vertical-align: middle;\n",
       "    }\n",
       "\n",
       "    .dataframe tbody tr th {\n",
       "        vertical-align: top;\n",
       "    }\n",
       "\n",
       "    .dataframe thead th {\n",
       "        text-align: right;\n",
       "    }\n",
       "</style>\n",
       "<table border=\"1\" class=\"dataframe\">\n",
       "  <thead>\n",
       "    <tr style=\"text-align: right;\">\n",
       "      <th></th>\n",
       "      <th>gender</th>\n",
       "      <th>age</th>\n",
       "      <th>id</th>\n",
       "      <th>became_member_on</th>\n",
       "      <th>income</th>\n",
       "    </tr>\n",
       "  </thead>\n",
       "  <tbody>\n",
       "    <tr>\n",
       "      <th>0</th>\n",
       "      <td>None</td>\n",
       "      <td>118</td>\n",
       "      <td>68be06ca386d4c31939f3a4f0e3dd783</td>\n",
       "      <td>20170212</td>\n",
       "      <td>NaN</td>\n",
       "    </tr>\n",
       "    <tr>\n",
       "      <th>2</th>\n",
       "      <td>None</td>\n",
       "      <td>118</td>\n",
       "      <td>38fe809add3b4fcf9315a9694bb96ff5</td>\n",
       "      <td>20180712</td>\n",
       "      <td>NaN</td>\n",
       "    </tr>\n",
       "    <tr>\n",
       "      <th>4</th>\n",
       "      <td>None</td>\n",
       "      <td>118</td>\n",
       "      <td>a03223e636434f42ac4c3df47e8bac43</td>\n",
       "      <td>20170804</td>\n",
       "      <td>NaN</td>\n",
       "    </tr>\n",
       "    <tr>\n",
       "      <th>6</th>\n",
       "      <td>None</td>\n",
       "      <td>118</td>\n",
       "      <td>8ec6ce2a7e7949b1bf142def7d0e0586</td>\n",
       "      <td>20170925</td>\n",
       "      <td>NaN</td>\n",
       "    </tr>\n",
       "    <tr>\n",
       "      <th>7</th>\n",
       "      <td>None</td>\n",
       "      <td>118</td>\n",
       "      <td>68617ca6246f4fbc85e91a2a49552598</td>\n",
       "      <td>20171002</td>\n",
       "      <td>NaN</td>\n",
       "    </tr>\n",
       "  </tbody>\n",
       "</table>\n",
       "</div>"
      ],
      "text/plain": [
       "  gender  age                                id  became_member_on  income\n",
       "0   None  118  68be06ca386d4c31939f3a4f0e3dd783          20170212     NaN\n",
       "2   None  118  38fe809add3b4fcf9315a9694bb96ff5          20180712     NaN\n",
       "4   None  118  a03223e636434f42ac4c3df47e8bac43          20170804     NaN\n",
       "6   None  118  8ec6ce2a7e7949b1bf142def7d0e0586          20170925     NaN\n",
       "7   None  118  68617ca6246f4fbc85e91a2a49552598          20171002     NaN"
      ]
     },
     "execution_count": 7,
     "metadata": {},
     "output_type": "execute_result"
    }
   ],
   "source": [
    "#check the information of those customers whose age is 118\n",
    "profile[profile['age']==118].head()"
   ]
  },
  {
   "cell_type": "markdown",
   "metadata": {},
   "source": [
    "It is clear that some customer did not provide the information of their gender and income, the system automatically set the age of the customer to 118"
   ]
  },
  {
   "cell_type": "markdown",
   "metadata": {},
   "source": [
    "### 1.1.3 Data Review for \"transcript\" "
   ]
  },
  {
   "cell_type": "code",
   "execution_count": 8,
   "metadata": {},
   "outputs": [
    {
     "data": {
      "text/html": [
       "<div>\n",
       "<style scoped>\n",
       "    .dataframe tbody tr th:only-of-type {\n",
       "        vertical-align: middle;\n",
       "    }\n",
       "\n",
       "    .dataframe tbody tr th {\n",
       "        vertical-align: top;\n",
       "    }\n",
       "\n",
       "    .dataframe thead th {\n",
       "        text-align: right;\n",
       "    }\n",
       "</style>\n",
       "<table border=\"1\" class=\"dataframe\">\n",
       "  <thead>\n",
       "    <tr style=\"text-align: right;\">\n",
       "      <th></th>\n",
       "      <th>person</th>\n",
       "      <th>event</th>\n",
       "      <th>value</th>\n",
       "      <th>time</th>\n",
       "    </tr>\n",
       "  </thead>\n",
       "  <tbody>\n",
       "    <tr>\n",
       "      <th>0</th>\n",
       "      <td>78afa995795e4d85b5d9ceeca43f5fef</td>\n",
       "      <td>offer received</td>\n",
       "      <td>{'offer id': '9b98b8c7a33c4b65b9aebfe6a799e6d9'}</td>\n",
       "      <td>0</td>\n",
       "    </tr>\n",
       "    <tr>\n",
       "      <th>1</th>\n",
       "      <td>a03223e636434f42ac4c3df47e8bac43</td>\n",
       "      <td>offer received</td>\n",
       "      <td>{'offer id': '0b1e1539f2cc45b7b9fa7c272da2e1d7'}</td>\n",
       "      <td>0</td>\n",
       "    </tr>\n",
       "    <tr>\n",
       "      <th>2</th>\n",
       "      <td>e2127556f4f64592b11af22de27a7932</td>\n",
       "      <td>offer received</td>\n",
       "      <td>{'offer id': '2906b810c7d4411798c6938adc9daaa5'}</td>\n",
       "      <td>0</td>\n",
       "    </tr>\n",
       "    <tr>\n",
       "      <th>3</th>\n",
       "      <td>8ec6ce2a7e7949b1bf142def7d0e0586</td>\n",
       "      <td>offer received</td>\n",
       "      <td>{'offer id': 'fafdcd668e3743c1bb461111dcafc2a4'}</td>\n",
       "      <td>0</td>\n",
       "    </tr>\n",
       "    <tr>\n",
       "      <th>4</th>\n",
       "      <td>68617ca6246f4fbc85e91a2a49552598</td>\n",
       "      <td>offer received</td>\n",
       "      <td>{'offer id': '4d5c57ea9a6940dd891ad53e9dbe8da0'}</td>\n",
       "      <td>0</td>\n",
       "    </tr>\n",
       "  </tbody>\n",
       "</table>\n",
       "</div>"
      ],
      "text/plain": [
       "                             person           event  \\\n",
       "0  78afa995795e4d85b5d9ceeca43f5fef  offer received   \n",
       "1  a03223e636434f42ac4c3df47e8bac43  offer received   \n",
       "2  e2127556f4f64592b11af22de27a7932  offer received   \n",
       "3  8ec6ce2a7e7949b1bf142def7d0e0586  offer received   \n",
       "4  68617ca6246f4fbc85e91a2a49552598  offer received   \n",
       "\n",
       "                                              value  time  \n",
       "0  {'offer id': '9b98b8c7a33c4b65b9aebfe6a799e6d9'}     0  \n",
       "1  {'offer id': '0b1e1539f2cc45b7b9fa7c272da2e1d7'}     0  \n",
       "2  {'offer id': '2906b810c7d4411798c6938adc9daaa5'}     0  \n",
       "3  {'offer id': 'fafdcd668e3743c1bb461111dcafc2a4'}     0  \n",
       "4  {'offer id': '4d5c57ea9a6940dd891ad53e9dbe8da0'}     0  "
      ]
     },
     "execution_count": 8,
     "metadata": {},
     "output_type": "execute_result"
    }
   ],
   "source": [
    "# Quick check the transcript information \n",
    "transcript.head()"
   ]
  },
  {
   "cell_type": "code",
   "execution_count": 9,
   "metadata": {},
   "outputs": [
    {
     "data": {
      "text/plain": [
       "person    0\n",
       "event     0\n",
       "value     0\n",
       "time      0\n",
       "dtype: int64"
      ]
     },
     "execution_count": 9,
     "metadata": {},
     "output_type": "execute_result"
    }
   ],
   "source": [
    "# NaN information checking\n",
    "transcript.isnull().sum()"
   ]
  },
  {
   "cell_type": "markdown",
   "metadata": {},
   "source": [
    "## 1.2 Data Visualization "
   ]
  },
  {
   "cell_type": "markdown",
   "metadata": {},
   "source": [
    "### 1.2.1 Data Visualization of \"portfolio\" "
   ]
  },
  {
   "cell_type": "code",
   "execution_count": 34,
   "metadata": {},
   "outputs": [
    {
     "data": {
      "text/plain": [
       "<AxesSubplot:xlabel='offer_type', ylabel='count'>"
      ]
     },
     "execution_count": 34,
     "metadata": {},
     "output_type": "execute_result"
    },
    {
     "data": {
      "image/png": "[encoded data removed]",
      "text/plain": [
       "<Figure size 432x288 with 1 Axes>"
      ]
     },
     "metadata": {
      "needs_background": "light"
     },
     "output_type": "display_data"
    }
   ],
   "source": [
    "#offer types and the corresponding frequencies\n",
    "sb.countplot(data = portfolio, x = 'offer_type')"
   ]
  },
  {
   "cell_type": "code",
   "execution_count": 10,
   "metadata": {},
   "outputs": [
    {
     "data": {
      "text/plain": [
       "Text(0, 0.5, 'Duration (days)')"
      ]
     },
     "execution_count": 10,
     "metadata": {},
     "output_type": "execute_result"
    },
    {
     "data": {
      "image/png": "[encoded data removed]",
      "text/plain": [
       "<Figure size 432x288 with 2 Axes>"
      ]
     },
     "metadata": {
      "needs_background": "light"
     },
     "output_type": "display_data"
    }
   ],
   "source": [
    "# The reward distribution along the difficulty and duration\n",
    "plt.scatter (data = portfolio, x = 'difficulty', y = 'duration', c = 'reward', \n",
    "             s = 150,cmap = 'viridis_r')\n",
    "plt.colorbar(label = 'reward')\n",
    "plt.xlabel('Difficulty')\n",
    "plt.ylabel('Duration (days)')"
   ]
  },
  {
   "cell_type": "code",
   "execution_count": 11,
   "metadata": {},
   "outputs": [
    {
     "data": {
      "text/plain": [
       "Text(0, 0.5, 'Average Reward ($)')"
      ]
     },
     "execution_count": 11,
     "metadata": {},
     "output_type": "execute_result"
    },
    {
     "data": {
      "image/png": "[encoded data removed]",
      "text/plain": [
       "<Figure size 432x288 with 1 Axes>"
      ]
     },
     "metadata": {
      "needs_background": "light"
     },
     "output_type": "display_data"
    }
   ],
   "source": [
    "# The relation bewteen offer_type and reward level\n",
    "offer_type = portfolio.groupby('offer_type').mean()['reward'].index.values\n",
    "average_reward = portfolio.groupby('offer_type').mean()['reward']\n",
    "sb.barplot(offer_type, average_reward)\n",
    "plt.xlabel('Offer type')\n",
    "plt.ylabel('Average Reward ($)')"
   ]
  },
  {
   "cell_type": "markdown",
   "metadata": {},
   "source": [
    "Bogo usually provides the largest average rewards, and informational offer usually means no rewarding"
   ]
  },
  {
   "cell_type": "markdown",
   "metadata": {},
   "source": [
    "### 1.2.2 Data Visualization of \"profile\""
   ]
  },
  {
   "cell_type": "code",
   "execution_count": 12,
   "metadata": {},
   "outputs": [
    {
     "data": {
      "text/plain": [
       "<AxesSubplot:xlabel='gender', ylabel='count'>"
      ]
     },
     "execution_count": 12,
     "metadata": {},
     "output_type": "execute_result"
    },
    {
     "data": {
      "image/png": "[encoded data removed]",
      "text/plain": [
       "<Figure size 432x288 with 1 Axes>"
      ]
     },
     "metadata": {
      "needs_background": "light"
     },
     "output_type": "display_data"
    }
   ],
   "source": [
    "#check the gender distribution of Starbucks customers \n",
    "sb.countplot(data = profile, x = 'gender')"
   ]
  },
  {
   "cell_type": "code",
   "execution_count": 13,
   "metadata": {},
   "outputs": [
    {
     "data": {
      "text/plain": [
       "(0.0, 110.0)"
      ]
     },
     "execution_count": 13,
     "metadata": {},
     "output_type": "execute_result"
    },
    {
     "data": {
      "image/png": "[encoded data removed]",
      "text/plain": [
       "<Figure size 720x288 with 2 Axes>"
      ]
     },
     "metadata": {
      "needs_background": "light"
     },
     "output_type": "display_data"
    }
   ],
   "source": [
    "#check the age distribution of Starbucks customers \n",
    "plt.figure(figsize= [10,4])\n",
    "\n",
    "plt.subplot(1,2,1)\n",
    "bins = np.arange(profile['age'].min(), 100,2)\n",
    "sb.distplot(profile['age'], bins = bins);\n",
    "plt.xlabel('Age')\n",
    "plt.ylabel('Percentage')\n",
    "plt.xlim([0,110])\n",
    "\n",
    "plt.subplot(1,2,2)\n",
    "bins = np.arange(profile['age'].min(), 100,2)\n",
    "sb.distplot(profile[profile['gender']=='M']['age'], bins = bins);\n",
    "sb.distplot(profile[profile['gender']=='F']['age'], bins = bins);\n",
    "plt.legend(['Male', 'Female'])\n",
    "plt.xlabel('Age')\n",
    "plt.ylabel('Percentage')\n",
    "plt.xlim([0,110])"
   ]
  },
  {
   "cell_type": "code",
   "execution_count": 14,
   "metadata": {},
   "outputs": [
    {
     "data": {
      "text/plain": [
       "Text(0, 0.5, 'Percentage')"
      ]
     },
     "execution_count": 14,
     "metadata": {},
     "output_type": "execute_result"
    },
    {
     "data": {
      "image/png": "[encoded data removed]",
      "text/plain": [
       "<Figure size 720x288 with 2 Axes>"
      ]
     },
     "metadata": {
      "needs_background": "light"
     },
     "output_type": "display_data"
    }
   ],
   "source": [
    "#check the income distribution of Starbucks customers \n",
    "plt.figure(figsize= [10,4])\n",
    "\n",
    "plt.subplot(1,2,1)\n",
    "bins = np.arange(profile['income'].min(), profile['income'].max(),5000)\n",
    "sb.distplot(profile['income'], bins = bins);\n",
    "plt.xlabel('Income($)')\n",
    "plt.ylabel('Percentage')\n",
    "\n",
    "plt.subplot(1,2,2)\n",
    "bins = np.arange(profile['income'].min(), profile['income'].max(),5000)\n",
    "sb.distplot(profile[profile['gender']=='M']['income'], bins = bins);\n",
    "sb.distplot(profile[profile['gender']=='F']['income'], bins = bins);\n",
    "plt.legend(['Male', 'Female'])\n",
    "plt.xlabel('Income ($)')\n",
    "plt.ylabel('Percentage')"
   ]
  },
  {
   "cell_type": "code",
   "execution_count": 15,
   "metadata": {},
   "outputs": [
    {
     "data": {
      "text/plain": [
       "Text(0, 0.5, 'Age')"
      ]
     },
     "execution_count": 15,
     "metadata": {},
     "output_type": "execute_result"
    },
    {
     "data": {
      "image/png": "[encoded data removed]",
      "text/plain": [
       "<Figure size 432x288 with 2 Axes>"
      ]
     },
     "metadata": {
      "needs_background": "light"
     },
     "output_type": "display_data"
    }
   ],
   "source": [
    "#heat map of \"profile\" (according to income and age) \n",
    "biny = np.arange(18,100,5)\n",
    "binx = np.arange(30000,120000,5000)\n",
    "plt.hist2d(data = profile.dropna(), x='income', y='age', bins = [binx, biny], cmin = 2);\n",
    "plt.colorbar()\n",
    "plt.xlabel('Income ($)')\n",
    "plt.ylabel('Age')"
   ]
  },
  {
   "cell_type": "markdown",
   "metadata": {},
   "source": [
    "It can be noticed that the customers with ~$75000 income per year and 50-60 age like Starbucks a lot."
   ]
  },
  {
   "cell_type": "code",
   "execution_count": 16,
   "metadata": {},
   "outputs": [
    {
     "data": {
      "text/plain": [
       "Text(0, 0.5, 'Number of Customers')"
      ]
     },
     "execution_count": 16,
     "metadata": {},
     "output_type": "execute_result"
    },
    {
     "data": {
      "image/png": "[encoded data removed]",
      "text/plain": [
       "<Figure size 432x288 with 1 Axes>"
      ]
     },
     "metadata": {
      "needs_background": "light"
     },
     "output_type": "display_data"
    }
   ],
   "source": [
    "# check the number of customers from each years\n",
    "sb.countplot(profile['became_member_on']//10000)\n",
    "plt.xlabel('Year')\n",
    "plt.ylabel('Number of Customers')"
   ]
  },
  {
   "cell_type": "markdown",
   "metadata": {},
   "source": [
    "### 1.2.3 Data Visualization of \"transcript\""
   ]
  },
  {
   "cell_type": "code",
   "execution_count": 17,
   "metadata": {},
   "outputs": [
    {
     "data": {
      "text/plain": [
       "<AxesSubplot:xlabel='event', ylabel='count'>"
      ]
     },
     "execution_count": 17,
     "metadata": {},
     "output_type": "execute_result"
    },
    {
     "data": {
      "image/png": "[encoded data removed]",
      "text/plain": [
       "<Figure size 432x288 with 1 Axes>"
      ]
     },
     "metadata": {
      "needs_background": "light"
     },
     "output_type": "display_data"
    }
   ],
   "source": [
    "sb.countplot(data = transcript, x = 'event')"
   ]
  },
  {
   "cell_type": "markdown",
   "metadata": {},
   "source": [
    "# 2. Methodology (Data Prepocessing & Implementation) "
   ]
  },
  {
   "cell_type": "markdown",
   "metadata": {},
   "source": [
    "## 2.1 Data Cleaning "
   ]
  },
  {
   "cell_type": "markdown",
   "metadata": {},
   "source": [
    "### 2.1.1 Data Cleaning for \"portfolio\" "
   ]
  },
  {
   "cell_type": "code",
   "execution_count": 18,
   "metadata": {},
   "outputs": [
    {
     "data": {
      "text/html": [
       "<div>\n",
       "<style scoped>\n",
       "    .dataframe tbody tr th:only-of-type {\n",
       "        vertical-align: middle;\n",
       "    }\n",
       "\n",
       "    .dataframe tbody tr th {\n",
       "        vertical-align: top;\n",
       "    }\n",
       "\n",
       "    .dataframe thead th {\n",
       "        text-align: right;\n",
       "    }\n",
       "</style>\n",
       "<table border=\"1\" class=\"dataframe\">\n",
       "  <thead>\n",
       "    <tr style=\"text-align: right;\">\n",
       "      <th></th>\n",
       "      <th>offer_id</th>\n",
       "      <th>reward</th>\n",
       "      <th>difficulty</th>\n",
       "      <th>duration</th>\n",
       "      <th>email</th>\n",
       "      <th>mobile</th>\n",
       "      <th>web</th>\n",
       "      <th>social</th>\n",
       "      <th>offer_type</th>\n",
       "    </tr>\n",
       "  </thead>\n",
       "  <tbody>\n",
       "    <tr>\n",
       "      <th>0</th>\n",
       "      <td>ae264e3637204a6fb9bb56bc8210ddfd</td>\n",
       "      <td>10</td>\n",
       "      <td>10</td>\n",
       "      <td>7</td>\n",
       "      <td>1</td>\n",
       "      <td>1</td>\n",
       "      <td>0</td>\n",
       "      <td>1</td>\n",
       "      <td>bogo</td>\n",
       "    </tr>\n",
       "    <tr>\n",
       "      <th>1</th>\n",
       "      <td>4d5c57ea9a6940dd891ad53e9dbe8da0</td>\n",
       "      <td>10</td>\n",
       "      <td>10</td>\n",
       "      <td>5</td>\n",
       "      <td>1</td>\n",
       "      <td>1</td>\n",
       "      <td>1</td>\n",
       "      <td>1</td>\n",
       "      <td>bogo</td>\n",
       "    </tr>\n",
       "    <tr>\n",
       "      <th>2</th>\n",
       "      <td>3f207df678b143eea3cee63160fa8bed</td>\n",
       "      <td>0</td>\n",
       "      <td>0</td>\n",
       "      <td>4</td>\n",
       "      <td>1</td>\n",
       "      <td>1</td>\n",
       "      <td>1</td>\n",
       "      <td>0</td>\n",
       "      <td>informational</td>\n",
       "    </tr>\n",
       "    <tr>\n",
       "      <th>3</th>\n",
       "      <td>9b98b8c7a33c4b65b9aebfe6a799e6d9</td>\n",
       "      <td>5</td>\n",
       "      <td>5</td>\n",
       "      <td>7</td>\n",
       "      <td>1</td>\n",
       "      <td>1</td>\n",
       "      <td>1</td>\n",
       "      <td>0</td>\n",
       "      <td>bogo</td>\n",
       "    </tr>\n",
       "    <tr>\n",
       "      <th>4</th>\n",
       "      <td>0b1e1539f2cc45b7b9fa7c272da2e1d7</td>\n",
       "      <td>5</td>\n",
       "      <td>20</td>\n",
       "      <td>10</td>\n",
       "      <td>1</td>\n",
       "      <td>0</td>\n",
       "      <td>1</td>\n",
       "      <td>0</td>\n",
       "      <td>discount</td>\n",
       "    </tr>\n",
       "  </tbody>\n",
       "</table>\n",
       "</div>"
      ],
      "text/plain": [
       "                           offer_id  reward  difficulty  duration  email  \\\n",
       "0  ae264e3637204a6fb9bb56bc8210ddfd      10          10         7      1   \n",
       "1  4d5c57ea9a6940dd891ad53e9dbe8da0      10          10         5      1   \n",
       "2  3f207df678b143eea3cee63160fa8bed       0           0         4      1   \n",
       "3  9b98b8c7a33c4b65b9aebfe6a799e6d9       5           5         7      1   \n",
       "4  0b1e1539f2cc45b7b9fa7c272da2e1d7       5          20        10      1   \n",
       "\n",
       "   mobile  web  social     offer_type  \n",
       "0       1    0       1           bogo  \n",
       "1       1    1       1           bogo  \n",
       "2       1    1       0  informational  \n",
       "3       1    1       0           bogo  \n",
       "4       0    1       0       discount  "
      ]
     },
     "execution_count": 18,
     "metadata": {},
     "output_type": "execute_result"
    }
   ],
   "source": [
    "def clean_portfolio(portfolio):\n",
    "    '''\n",
    "    Cleaning the portfolio dataset\n",
    "    INPUT:\n",
    "    portfolio - the portfolio dataframe to be cleaned\n",
    "    \n",
    "    OUTPUT:\n",
    "    portfolio_new - the cleaned portfolio dataframe\n",
    "    \n",
    "    '''\n",
    "    \n",
    "    #build the dummy array for the information of \"channels\" and \"offertype\"\n",
    "    portfolio_new = portfolio.copy()\n",
    "    portfolio_new['email'] =  portfolio_new['channels'].apply(lambda val: 1 if 'email' in val else 0)\n",
    "    portfolio_new['mobile'] = portfolio_new['channels'].apply(lambda val: 1 if 'mobile' in val else 0)\n",
    "    portfolio_new['web'] = portfolio_new['channels'].apply(lambda val: 1 if 'web' in val else 0)\n",
    "    portfolio_new['social'] = portfolio_new['channels'].apply(lambda val: 1 if 'social' in val else 0)\n",
    "    #portfolio_new = pd.concat([portfolio_new,pd.get_dummies(portfolio_new['offer_type'])], axis = 1)\n",
    "    \n",
    "    #adjust the columns sequence\n",
    "    portfolio_new.drop(['channels'], axis = 1)\n",
    "    portfolio_new = portfolio_new[['id','reward','difficulty','duration',\\\n",
    "                                   'email','mobile','web','social','offer_type']]\n",
    "    \n",
    "    #rename the \"id\" to \"offer_id\"\n",
    "    portfolio_new.rename(columns = {'id':'offer_id'}, inplace = True)\n",
    "    \n",
    "    return portfolio_new\n",
    "\n",
    "portfolio_new = clean_portfolio(portfolio)\n",
    "portfolio_new.head()"
   ]
  },
  {
   "cell_type": "markdown",
   "metadata": {},
   "source": [
    "### 2.1.2  Data Cleaning for \"profile\""
   ]
  },
  {
   "cell_type": "code",
   "execution_count": 19,
   "metadata": {},
   "outputs": [
    {
     "data": {
      "text/plain": [
       "datetime.date(2020, 9, 7)"
      ]
     },
     "execution_count": 19,
     "metadata": {},
     "output_type": "execute_result"
    }
   ],
   "source": [
    "datetime.today().date()"
   ]
  },
  {
   "cell_type": "code",
   "execution_count": 20,
   "metadata": {},
   "outputs": [
    {
     "data": {
      "text/html": [
       "<div>\n",
       "<style scoped>\n",
       "    .dataframe tbody tr th:only-of-type {\n",
       "        vertical-align: middle;\n",
       "    }\n",
       "\n",
       "    .dataframe tbody tr th {\n",
       "        vertical-align: top;\n",
       "    }\n",
       "\n",
       "    .dataframe thead th {\n",
       "        text-align: right;\n",
       "    }\n",
       "</style>\n",
       "<table border=\"1\" class=\"dataframe\">\n",
       "  <thead>\n",
       "    <tr style=\"text-align: right;\">\n",
       "      <th></th>\n",
       "      <th>person</th>\n",
       "      <th>age</th>\n",
       "      <th>income</th>\n",
       "      <th>days</th>\n",
       "      <th>gender</th>\n",
       "    </tr>\n",
       "  </thead>\n",
       "  <tbody>\n",
       "    <tr>\n",
       "      <th>0</th>\n",
       "      <td>68be06ca386d4c31939f3a4f0e3dd783</td>\n",
       "      <td>118</td>\n",
       "      <td>65404.991568</td>\n",
       "      <td>1303</td>\n",
       "      <td>O</td>\n",
       "    </tr>\n",
       "    <tr>\n",
       "      <th>1</th>\n",
       "      <td>0610b486422d4921ae7d2bf64640c50b</td>\n",
       "      <td>55</td>\n",
       "      <td>112000.000000</td>\n",
       "      <td>1150</td>\n",
       "      <td>F</td>\n",
       "    </tr>\n",
       "    <tr>\n",
       "      <th>2</th>\n",
       "      <td>38fe809add3b4fcf9315a9694bb96ff5</td>\n",
       "      <td>118</td>\n",
       "      <td>65404.991568</td>\n",
       "      <td>788</td>\n",
       "      <td>O</td>\n",
       "    </tr>\n",
       "    <tr>\n",
       "      <th>3</th>\n",
       "      <td>78afa995795e4d85b5d9ceeca43f5fef</td>\n",
       "      <td>75</td>\n",
       "      <td>100000.000000</td>\n",
       "      <td>1217</td>\n",
       "      <td>F</td>\n",
       "    </tr>\n",
       "    <tr>\n",
       "      <th>4</th>\n",
       "      <td>a03223e636434f42ac4c3df47e8bac43</td>\n",
       "      <td>118</td>\n",
       "      <td>65404.991568</td>\n",
       "      <td>1130</td>\n",
       "      <td>O</td>\n",
       "    </tr>\n",
       "  </tbody>\n",
       "</table>\n",
       "</div>"
      ],
      "text/plain": [
       "                             person  age         income  days gender\n",
       "0  68be06ca386d4c31939f3a4f0e3dd783  118   65404.991568  1303      O\n",
       "1  0610b486422d4921ae7d2bf64640c50b   55  112000.000000  1150      F\n",
       "2  38fe809add3b4fcf9315a9694bb96ff5  118   65404.991568   788      O\n",
       "3  78afa995795e4d85b5d9ceeca43f5fef   75  100000.000000  1217      F\n",
       "4  a03223e636434f42ac4c3df47e8bac43  118   65404.991568  1130      O"
      ]
     },
     "execution_count": 20,
     "metadata": {},
     "output_type": "execute_result"
    }
   ],
   "source": [
    "def clean_profile(profile):\n",
    "    '''\n",
    "    Cleaning the profile dataset\n",
    "    INPUT:\n",
    "    profile - the profile dataframe to be cleaned\n",
    "    \n",
    "    OUTPUT:\n",
    "    profile_new - the cleaned profile dataframe\n",
    "    \n",
    "    '''\n",
    "    profile_new = profile.copy()\n",
    "    \n",
    "    #modity the became_member_on to date format\n",
    "    \n",
    "    #profile_new['became_member_on'] = \\\n",
    "    #pd.to_datetime(profile_new['became_member_on'], format='%Y%m%d').dt.date\n",
    "    #profile_new['became_member_on'] = pd.to_datetime(profile_new['became_member_on'])\n",
    "    #profile_new['member_year'] = profile_new['became_member_on'].dt.year\n",
    "    profile_new['days']= datetime.today().date() - \\\n",
    "    pd.to_datetime(profile_new['became_member_on'], format='%Y%m%d').dt.date\n",
    "    profile_new['days'] = profile_new['days'].dt.days\n",
    "    #fill all of the NaN information\n",
    "    profile_new['gender'].fillna('O', inplace=True)\n",
    "    profile_new['income'].fillna((profile['income'].mean()), inplace=True)\n",
    "        \n",
    "    #build the dummy array for the gender information\n",
    "    profile_new = pd.concat([profile_new,pd.get_dummies(profile_new['gender'])], axis = 1)\n",
    "    \n",
    "    #drop the unnecessary columns \n",
    "    profile_new.drop(['became_member_on'], axis = 1, inplace = True)\n",
    "    \n",
    "    #adjust the columns sequence\n",
    "    profile_new = profile_new[['id','age','income','days','gender']]\n",
    "    profile_new.rename(columns = {'id':'person'}, inplace = True)\n",
    "    \n",
    "    return profile_new\n",
    "profile_new =  clean_profile(profile)\n",
    "profile_new.head()"
   ]
  },
  {
   "cell_type": "markdown",
   "metadata": {},
   "source": [
    "### 2.1.3 Data Cleaning for \"transcript\" "
   ]
  },
  {
   "cell_type": "code",
   "execution_count": 21,
   "metadata": {},
   "outputs": [
    {
     "name": "stderr",
     "output_type": "stream",
     "text": [
      "<ipython-input-21-8918fdb81fb0>:6: SettingWithCopyWarning: \n",
      "A value is trying to be set on a copy of a slice from a DataFrame.\n",
      "Try using .loc[row_indexer,col_indexer] = value instead\n",
      "\n",
      "See the caveats in the documentation: https://pandas.pydata.org/pandas-docs/stable/user_guide/indexing.html#returning-a-view-versus-a-copy\n",
      "  df1['amount'] = df1.value.apply(lambda x:list(x.values())[0])\n",
      "<ipython-input-21-8918fdb81fb0>:10: SettingWithCopyWarning: \n",
      "A value is trying to be set on a copy of a slice from a DataFrame.\n",
      "Try using .loc[row_indexer,col_indexer] = value instead\n",
      "\n",
      "See the caveats in the documentation: https://pandas.pydata.org/pandas-docs/stable/user_guide/indexing.html#returning-a-view-versus-a-copy\n",
      "  df2['offer_id'] = df2.value.apply(lambda x:list(x.values())[0])\n",
      "<ipython-input-21-8918fdb81fb0>:14: SettingWithCopyWarning: \n",
      "A value is trying to be set on a copy of a slice from a DataFrame.\n",
      "Try using .loc[row_indexer,col_indexer] = value instead\n",
      "\n",
      "See the caveats in the documentation: https://pandas.pydata.org/pandas-docs/stable/user_guide/indexing.html#returning-a-view-versus-a-copy\n",
      "  df3['offer_id'] = df3.value.apply(lambda x:list(x.values())[0])\n",
      "<ipython-input-21-8918fdb81fb0>:18: SettingWithCopyWarning: \n",
      "A value is trying to be set on a copy of a slice from a DataFrame.\n",
      "Try using .loc[row_indexer,col_indexer] = value instead\n",
      "\n",
      "See the caveats in the documentation: https://pandas.pydata.org/pandas-docs/stable/user_guide/indexing.html#returning-a-view-versus-a-copy\n",
      "  df4['offer_id'] = df4.value.apply(lambda x:list(x.values())[0])\n",
      "<ipython-input-21-8918fdb81fb0>:19: SettingWithCopyWarning: \n",
      "A value is trying to be set on a copy of a slice from a DataFrame.\n",
      "Try using .loc[row_indexer,col_indexer] = value instead\n",
      "\n",
      "See the caveats in the documentation: https://pandas.pydata.org/pandas-docs/stable/user_guide/indexing.html#returning-a-view-versus-a-copy\n",
      "  df4['reward'] = df4.value.apply(lambda x:list(x.values())[1])\n"
     ]
    },
    {
     "data": {
      "text/html": [
       "<div>\n",
       "<style scoped>\n",
       "    .dataframe tbody tr th:only-of-type {\n",
       "        vertical-align: middle;\n",
       "    }\n",
       "\n",
       "    .dataframe tbody tr th {\n",
       "        vertical-align: top;\n",
       "    }\n",
       "\n",
       "    .dataframe thead th {\n",
       "        text-align: right;\n",
       "    }\n",
       "</style>\n",
       "<table border=\"1\" class=\"dataframe\">\n",
       "  <thead>\n",
       "    <tr style=\"text-align: right;\">\n",
       "      <th></th>\n",
       "      <th>person</th>\n",
       "      <th>offer_id</th>\n",
       "      <th>time</th>\n",
       "      <th>amount</th>\n",
       "      <th>reward</th>\n",
       "      <th>offer completed</th>\n",
       "      <th>offer received</th>\n",
       "      <th>offer viewed</th>\n",
       "      <th>transaction</th>\n",
       "    </tr>\n",
       "  </thead>\n",
       "  <tbody>\n",
       "    <tr>\n",
       "      <th>12654</th>\n",
       "      <td>02c083884c7d45b39cc68e1314fec56c</td>\n",
       "      <td>NaN</td>\n",
       "      <td>0</td>\n",
       "      <td>0.83</td>\n",
       "      <td>NaN</td>\n",
       "      <td>0</td>\n",
       "      <td>0</td>\n",
       "      <td>0</td>\n",
       "      <td>1</td>\n",
       "    </tr>\n",
       "    <tr>\n",
       "      <th>12657</th>\n",
       "      <td>9fa9ae8f57894cc9a3b8a9bbe0fc1b2f</td>\n",
       "      <td>NaN</td>\n",
       "      <td>0</td>\n",
       "      <td>34.56</td>\n",
       "      <td>NaN</td>\n",
       "      <td>0</td>\n",
       "      <td>0</td>\n",
       "      <td>0</td>\n",
       "      <td>1</td>\n",
       "    </tr>\n",
       "    <tr>\n",
       "      <th>12659</th>\n",
       "      <td>54890f68699049c2a04d415abc25e717</td>\n",
       "      <td>NaN</td>\n",
       "      <td>0</td>\n",
       "      <td>13.23</td>\n",
       "      <td>NaN</td>\n",
       "      <td>0</td>\n",
       "      <td>0</td>\n",
       "      <td>0</td>\n",
       "      <td>1</td>\n",
       "    </tr>\n",
       "    <tr>\n",
       "      <th>12670</th>\n",
       "      <td>b2f1cd155b864803ad8334cdf13c4bd2</td>\n",
       "      <td>NaN</td>\n",
       "      <td>0</td>\n",
       "      <td>19.51</td>\n",
       "      <td>NaN</td>\n",
       "      <td>0</td>\n",
       "      <td>0</td>\n",
       "      <td>0</td>\n",
       "      <td>1</td>\n",
       "    </tr>\n",
       "    <tr>\n",
       "      <th>12671</th>\n",
       "      <td>fe97aa22dd3e48c8b143116a8403dd52</td>\n",
       "      <td>NaN</td>\n",
       "      <td>0</td>\n",
       "      <td>18.97</td>\n",
       "      <td>NaN</td>\n",
       "      <td>0</td>\n",
       "      <td>0</td>\n",
       "      <td>0</td>\n",
       "      <td>1</td>\n",
       "    </tr>\n",
       "  </tbody>\n",
       "</table>\n",
       "</div>"
      ],
      "text/plain": [
       "                                 person offer_id  time  amount  reward  \\\n",
       "12654  02c083884c7d45b39cc68e1314fec56c      NaN     0    0.83     NaN   \n",
       "12657  9fa9ae8f57894cc9a3b8a9bbe0fc1b2f      NaN     0   34.56     NaN   \n",
       "12659  54890f68699049c2a04d415abc25e717      NaN     0   13.23     NaN   \n",
       "12670  b2f1cd155b864803ad8334cdf13c4bd2      NaN     0   19.51     NaN   \n",
       "12671  fe97aa22dd3e48c8b143116a8403dd52      NaN     0   18.97     NaN   \n",
       "\n",
       "       offer completed  offer received  offer viewed  transaction  \n",
       "12654                0               0             0            1  \n",
       "12657                0               0             0            1  \n",
       "12659                0               0             0            1  \n",
       "12670                0               0             0            1  \n",
       "12671                0               0             0            1  "
      ]
     },
     "execution_count": 21,
     "metadata": {},
     "output_type": "execute_result"
    }
   ],
   "source": [
    "def clean_transcript(transcript):\n",
    "    '''\n",
    "    Cleaning the transcript dataset\n",
    "    INPUT:\n",
    "    transcript - the transcript dataframe to be cleaned\n",
    "    \n",
    "    OUTPUT:\n",
    "    transcript_new - the cleaned transcript dataframe\n",
    "    \n",
    "    '''\n",
    "    \n",
    "    transcript_new = transcript.copy()\n",
    "    \n",
    "    # extract all the 'transaction' information \n",
    "    df1 = transcript_new[transcript_new['event'] == 'transaction']\n",
    "    df1['amount'] = df1.value.apply(lambda x:list(x.values())[0])\n",
    "    \n",
    "    # extract all of the 'offer received' information\n",
    "    df2 = transcript[transcript['event'] == 'offer received']\n",
    "    df2['offer_id'] = df2.value.apply(lambda x:list(x.values())[0])\n",
    "    \n",
    "    # extract all of the 'offer viewed' information\n",
    "    df3 = transcript[transcript['event'] == 'offer viewed']\n",
    "    df3['offer_id'] = df3.value.apply(lambda x:list(x.values())[0])\n",
    "    \n",
    "    # extract all of the 'offer completed' information\n",
    "    df4 = transcript[transcript['event'] == 'offer completed']\n",
    "    df4['offer_id'] = df4.value.apply(lambda x:list(x.values())[0])\n",
    "    df4['reward'] = df4.value.apply(lambda x:list(x.values())[1])\n",
    "    \n",
    "    # combine all the event information together\n",
    "    transcript_new = pd.concat([df1,df2,df3,df4])\n",
    "    transcript_new = transcript_new[['event' , 'person' , 'offer_id' ,\\\n",
    "                                     'time', 'amount' , 'reward' , 'value']]\n",
    "    \n",
    "    #generating the dummy array from the event \n",
    "    transcript_new = pd.get_dummies(transcript_new, columns=['event'] , prefix='' ,prefix_sep='')\n",
    "    \n",
    "    #drop the unecessary data as well as the duplicated values\n",
    "    transcript_new.drop(columns='value' , inplace=True)\n",
    "    transcript_new.drop_duplicates(inplace=True)\n",
    "    \n",
    "    return transcript_new\n",
    "\n",
    "transcript_new =  clean_transcript(transcript)\n",
    "transcript_new.head()"
   ]
  },
  {
   "cell_type": "markdown",
   "metadata": {},
   "source": [
    "## 2.2 Data Processing "
   ]
  },
  {
   "cell_type": "markdown",
   "metadata": {},
   "source": [
    "Data Processing is for the model setup in the next step. In this project, we concern about the question which demographic groups respond best to which offer type? What is the best offer strategy for Starbucks. Therefore, we have to generate some chart, which includes the information customer response to each type of reward offer. \n",
    "\n",
    "Firstly, we would combine all the three tables together"
   ]
  },
  {
   "cell_type": "code",
   "execution_count": 22,
   "metadata": {},
   "outputs": [
    {
     "data": {
      "text/html": [
       "<div>\n",
       "<style scoped>\n",
       "    .dataframe tbody tr th:only-of-type {\n",
       "        vertical-align: middle;\n",
       "    }\n",
       "\n",
       "    .dataframe tbody tr th {\n",
       "        vertical-align: top;\n",
       "    }\n",
       "\n",
       "    .dataframe thead th {\n",
       "        text-align: right;\n",
       "    }\n",
       "</style>\n",
       "<table border=\"1\" class=\"dataframe\">\n",
       "  <thead>\n",
       "    <tr style=\"text-align: right;\">\n",
       "      <th></th>\n",
       "      <th>person</th>\n",
       "      <th>offer_id</th>\n",
       "      <th>time</th>\n",
       "      <th>amount</th>\n",
       "      <th>reward</th>\n",
       "      <th>offer completed</th>\n",
       "      <th>offer received</th>\n",
       "      <th>offer viewed</th>\n",
       "      <th>transaction</th>\n",
       "      <th>age</th>\n",
       "      <th>income</th>\n",
       "      <th>days</th>\n",
       "      <th>gender</th>\n",
       "    </tr>\n",
       "  </thead>\n",
       "  <tbody>\n",
       "    <tr>\n",
       "      <th>0</th>\n",
       "      <td>02c083884c7d45b39cc68e1314fec56c</td>\n",
       "      <td>NaN</td>\n",
       "      <td>0</td>\n",
       "      <td>0.83</td>\n",
       "      <td>0.0</td>\n",
       "      <td>0</td>\n",
       "      <td>0</td>\n",
       "      <td>0</td>\n",
       "      <td>1</td>\n",
       "      <td>20</td>\n",
       "      <td>30000.0</td>\n",
       "      <td>1519</td>\n",
       "      <td>F</td>\n",
       "    </tr>\n",
       "    <tr>\n",
       "      <th>1</th>\n",
       "      <td>02c083884c7d45b39cc68e1314fec56c</td>\n",
       "      <td>NaN</td>\n",
       "      <td>6</td>\n",
       "      <td>1.44</td>\n",
       "      <td>0.0</td>\n",
       "      <td>0</td>\n",
       "      <td>0</td>\n",
       "      <td>0</td>\n",
       "      <td>1</td>\n",
       "      <td>20</td>\n",
       "      <td>30000.0</td>\n",
       "      <td>1519</td>\n",
       "      <td>F</td>\n",
       "    </tr>\n",
       "    <tr>\n",
       "      <th>2</th>\n",
       "      <td>02c083884c7d45b39cc68e1314fec56c</td>\n",
       "      <td>NaN</td>\n",
       "      <td>12</td>\n",
       "      <td>4.56</td>\n",
       "      <td>0.0</td>\n",
       "      <td>0</td>\n",
       "      <td>0</td>\n",
       "      <td>0</td>\n",
       "      <td>1</td>\n",
       "      <td>20</td>\n",
       "      <td>30000.0</td>\n",
       "      <td>1519</td>\n",
       "      <td>F</td>\n",
       "    </tr>\n",
       "    <tr>\n",
       "      <th>3</th>\n",
       "      <td>02c083884c7d45b39cc68e1314fec56c</td>\n",
       "      <td>NaN</td>\n",
       "      <td>84</td>\n",
       "      <td>1.53</td>\n",
       "      <td>0.0</td>\n",
       "      <td>0</td>\n",
       "      <td>0</td>\n",
       "      <td>0</td>\n",
       "      <td>1</td>\n",
       "      <td>20</td>\n",
       "      <td>30000.0</td>\n",
       "      <td>1519</td>\n",
       "      <td>F</td>\n",
       "    </tr>\n",
       "    <tr>\n",
       "      <th>4</th>\n",
       "      <td>02c083884c7d45b39cc68e1314fec56c</td>\n",
       "      <td>NaN</td>\n",
       "      <td>90</td>\n",
       "      <td>0.50</td>\n",
       "      <td>0.0</td>\n",
       "      <td>0</td>\n",
       "      <td>0</td>\n",
       "      <td>0</td>\n",
       "      <td>1</td>\n",
       "      <td>20</td>\n",
       "      <td>30000.0</td>\n",
       "      <td>1519</td>\n",
       "      <td>F</td>\n",
       "    </tr>\n",
       "  </tbody>\n",
       "</table>\n",
       "</div>"
      ],
      "text/plain": [
       "                             person offer_id  time  amount  reward  \\\n",
       "0  02c083884c7d45b39cc68e1314fec56c      NaN     0    0.83     0.0   \n",
       "1  02c083884c7d45b39cc68e1314fec56c      NaN     6    1.44     0.0   \n",
       "2  02c083884c7d45b39cc68e1314fec56c      NaN    12    4.56     0.0   \n",
       "3  02c083884c7d45b39cc68e1314fec56c      NaN    84    1.53     0.0   \n",
       "4  02c083884c7d45b39cc68e1314fec56c      NaN    90    0.50     0.0   \n",
       "\n",
       "   offer completed  offer received  offer viewed  transaction  age   income  \\\n",
       "0                0               0             0            1   20  30000.0   \n",
       "1                0               0             0            1   20  30000.0   \n",
       "2                0               0             0            1   20  30000.0   \n",
       "3                0               0             0            1   20  30000.0   \n",
       "4                0               0             0            1   20  30000.0   \n",
       "\n",
       "   days gender  \n",
       "0  1519      F  \n",
       "1  1519      F  \n",
       "2  1519      F  \n",
       "3  1519      F  \n",
       "4  1519      F  "
      ]
     },
     "execution_count": 22,
     "metadata": {},
     "output_type": "execute_result"
    }
   ],
   "source": [
    "#merge the transcript_new and profile_new table \n",
    "temp_1 = pd.merge(transcript_new, profile_new, on = 'person', how = 'inner')\n",
    "temp_1['reward'].fillna(0, inplace = True)\n",
    "temp_1['amount'].fillna(0, inplace = True)\n",
    "temp_1.head(5)"
   ]
  },
  {
   "cell_type": "code",
   "execution_count": 23,
   "metadata": {},
   "outputs": [
    {
     "data": {
      "text/plain": [
       "array(['person', 'offer_id', 'time', 'amount', 'reward_x',\n",
       "       'offer completed', 'offer received', 'offer viewed', 'transaction',\n",
       "       'age', 'income', 'days', 'gender', 'reward_y', 'difficulty',\n",
       "       'duration', 'email', 'mobile', 'web', 'social', 'offer_type'],\n",
       "      dtype=object)"
      ]
     },
     "execution_count": 23,
     "metadata": {},
     "output_type": "execute_result"
    }
   ],
   "source": [
    "# merge the temp_1 file with the portfolio file\n",
    "temp_2 = pd.merge(temp_1, portfolio_new, on = 'offer_id', how = 'left')\n",
    "temp_2.columns.values"
   ]
  },
  {
   "cell_type": "markdown",
   "metadata": {},
   "source": [
    "Here，we noticed that there are lots of columns in the chart of temp_2, actually, we do not need consider so many things, so I will only consider the most important parts as shown below"
   ]
  },
  {
   "cell_type": "code",
   "execution_count": 24,
   "metadata": {},
   "outputs": [
    {
     "data": {
      "text/html": [
       "<div>\n",
       "<style scoped>\n",
       "    .dataframe tbody tr th:only-of-type {\n",
       "        vertical-align: middle;\n",
       "    }\n",
       "\n",
       "    .dataframe tbody tr th {\n",
       "        vertical-align: top;\n",
       "    }\n",
       "\n",
       "    .dataframe thead th {\n",
       "        text-align: right;\n",
       "    }\n",
       "</style>\n",
       "<table border=\"1\" class=\"dataframe\">\n",
       "  <thead>\n",
       "    <tr style=\"text-align: right;\">\n",
       "      <th></th>\n",
       "      <th>person</th>\n",
       "      <th>time</th>\n",
       "      <th>offer completed</th>\n",
       "      <th>offer received</th>\n",
       "      <th>offer viewed</th>\n",
       "      <th>transaction</th>\n",
       "      <th>age</th>\n",
       "      <th>income</th>\n",
       "      <th>days</th>\n",
       "      <th>gender</th>\n",
       "      <th>offer_type</th>\n",
       "      <th>duration</th>\n",
       "      <th>offer_id</th>\n",
       "    </tr>\n",
       "  </thead>\n",
       "  <tbody>\n",
       "    <tr>\n",
       "      <th>258871</th>\n",
       "      <td>0009655768c64bdeb2e877511632db8f</td>\n",
       "      <td>168</td>\n",
       "      <td>0</td>\n",
       "      <td>1</td>\n",
       "      <td>0</td>\n",
       "      <td>0</td>\n",
       "      <td>33</td>\n",
       "      <td>72000.0</td>\n",
       "      <td>1235</td>\n",
       "      <td>M</td>\n",
       "      <td>informational</td>\n",
       "      <td>3.0</td>\n",
       "      <td>5a8bc65990b245e5a138643cd4eb9837</td>\n",
       "    </tr>\n",
       "    <tr>\n",
       "      <th>258876</th>\n",
       "      <td>0009655768c64bdeb2e877511632db8f</td>\n",
       "      <td>192</td>\n",
       "      <td>0</td>\n",
       "      <td>0</td>\n",
       "      <td>1</td>\n",
       "      <td>0</td>\n",
       "      <td>33</td>\n",
       "      <td>72000.0</td>\n",
       "      <td>1235</td>\n",
       "      <td>M</td>\n",
       "      <td>informational</td>\n",
       "      <td>3.0</td>\n",
       "      <td>5a8bc65990b245e5a138643cd4eb9837</td>\n",
       "    </tr>\n",
       "    <tr>\n",
       "      <th>258863</th>\n",
       "      <td>0009655768c64bdeb2e877511632db8f</td>\n",
       "      <td>228</td>\n",
       "      <td>0</td>\n",
       "      <td>0</td>\n",
       "      <td>0</td>\n",
       "      <td>1</td>\n",
       "      <td>33</td>\n",
       "      <td>72000.0</td>\n",
       "      <td>1235</td>\n",
       "      <td>M</td>\n",
       "      <td>NaN</td>\n",
       "      <td>NaN</td>\n",
       "      <td>NaN</td>\n",
       "    </tr>\n",
       "    <tr>\n",
       "      <th>258872</th>\n",
       "      <td>0009655768c64bdeb2e877511632db8f</td>\n",
       "      <td>336</td>\n",
       "      <td>0</td>\n",
       "      <td>1</td>\n",
       "      <td>0</td>\n",
       "      <td>0</td>\n",
       "      <td>33</td>\n",
       "      <td>72000.0</td>\n",
       "      <td>1235</td>\n",
       "      <td>M</td>\n",
       "      <td>informational</td>\n",
       "      <td>4.0</td>\n",
       "      <td>3f207df678b143eea3cee63160fa8bed</td>\n",
       "    </tr>\n",
       "    <tr>\n",
       "      <th>258877</th>\n",
       "      <td>0009655768c64bdeb2e877511632db8f</td>\n",
       "      <td>372</td>\n",
       "      <td>0</td>\n",
       "      <td>0</td>\n",
       "      <td>1</td>\n",
       "      <td>0</td>\n",
       "      <td>33</td>\n",
       "      <td>72000.0</td>\n",
       "      <td>1235</td>\n",
       "      <td>M</td>\n",
       "      <td>informational</td>\n",
       "      <td>4.0</td>\n",
       "      <td>3f207df678b143eea3cee63160fa8bed</td>\n",
       "    </tr>\n",
       "  </tbody>\n",
       "</table>\n",
       "</div>"
      ],
      "text/plain": [
       "                                  person  time  offer completed  \\\n",
       "258871  0009655768c64bdeb2e877511632db8f   168                0   \n",
       "258876  0009655768c64bdeb2e877511632db8f   192                0   \n",
       "258863  0009655768c64bdeb2e877511632db8f   228                0   \n",
       "258872  0009655768c64bdeb2e877511632db8f   336                0   \n",
       "258877  0009655768c64bdeb2e877511632db8f   372                0   \n",
       "\n",
       "        offer received  offer viewed  transaction  age   income  days gender  \\\n",
       "258871               1             0            0   33  72000.0  1235      M   \n",
       "258876               0             1            0   33  72000.0  1235      M   \n",
       "258863               0             0            1   33  72000.0  1235      M   \n",
       "258872               1             0            0   33  72000.0  1235      M   \n",
       "258877               0             1            0   33  72000.0  1235      M   \n",
       "\n",
       "           offer_type  duration                          offer_id  \n",
       "258871  informational       3.0  5a8bc65990b245e5a138643cd4eb9837  \n",
       "258876  informational       3.0  5a8bc65990b245e5a138643cd4eb9837  \n",
       "258863            NaN       NaN                               NaN  \n",
       "258872  informational       4.0  3f207df678b143eea3cee63160fa8bed  \n",
       "258877  informational       4.0  3f207df678b143eea3cee63160fa8bed  "
      ]
     },
     "execution_count": 24,
     "metadata": {},
     "output_type": "execute_result"
    }
   ],
   "source": [
    "temp_2 = temp_2[['person','time', 'offer completed', 'offer received', \\\n",
    "                 'offer viewed', 'transaction','age', 'income', 'days', 'gender',\\\n",
    "                 'offer_type','duration','offer_id']]\n",
    "temp_2.sort_values(['person','time'],inplace = True)\n",
    "temp_2.head(5)"
   ]
  },
  {
   "cell_type": "markdown",
   "metadata": {},
   "source": [
    "We know that bogo and discount are easier to analyze, the reason is if the customers are affected by the offers of bogo or discount, they purchase starbucks, then it will show \"offer completed\", therefore, we can make our modeling based on the fact whether offers are completed or not for bogos and discount. However, informational offer won't show if the purchase completed due to offer affecting. Therefore, we may need to clarify the category of each purchase."
   ]
  },
  {
   "cell_type": "markdown",
   "metadata": {},
   "source": [
    "Here, we checked all of the informational offer (viewed by the customer) and check if the purchase can be finished before to the expiration of the informational offer. If the purchase can be finished before the expiration, we would define that the informational offer is completed."
   ]
  },
  {
   "cell_type": "code",
   "execution_count": 25,
   "metadata": {},
   "outputs": [
    {
     "data": {
      "text/plain": [
       "306137"
      ]
     },
     "execution_count": 25,
     "metadata": {},
     "output_type": "execute_result"
    }
   ],
   "source": [
    "temp_array = np.array(temp_2)\n",
    "temp_array.shape[0]"
   ]
  },
  {
   "cell_type": "code",
   "execution_count": 26,
   "metadata": {},
   "outputs": [],
   "source": [
    "for i in range(len(temp_array)):\n",
    "    # Check if the informational offer has been viewed or not\n",
    "    if temp_array[i,10]=='informational' and temp_array[i,4]==1:\n",
    "        # Check the person and offer id\n",
    "        person = temp_array[i,0]\n",
    "        offer_id = temp_array[i,12]\n",
    "        # find out the start time of this informational offer\n",
    "        start_time = temp_2[(temp_2['person'] == person) & (temp_2['offer_id'] == offer_id)]['time'].values[0]\n",
    "        j = i + 1\n",
    "        while(temp_array[j,0]==temp_array[i,0] and \\\n",
    "              (temp_array[j,1]-start_time) <= temp_array[i,11]*24):\n",
    "            if temp_array[j,5]==1:\n",
    "                temp_2.iloc[i,2] = 1\n",
    "            j += 1   "
   ]
  },
  {
   "cell_type": "markdown",
   "metadata": {},
   "source": [
    "We would like to save the temp_2 file to another csv file so that we can do more operation on this file later"
   ]
  },
  {
   "cell_type": "code",
   "execution_count": 4,
   "metadata": {},
   "outputs": [
    {
     "ename": "NameError",
     "evalue": "name 'temp_2' is not defined",
     "output_type": "error",
     "traceback": [
      "\u001b[1;31m---------------------------------------------------------------------------\u001b[0m",
      "\u001b[1;31mNameError\u001b[0m                                 Traceback (most recent call last)",
      "\u001b[1;32m<ipython-input-4-2fab131c9dad>\u001b[0m in \u001b[0;36m<module>\u001b[1;34m\u001b[0m\n\u001b[1;32m----> 1\u001b[1;33m \u001b[0mtemp_2\u001b[0m\u001b[1;33m.\u001b[0m\u001b[0mto_csv\u001b[0m\u001b[1;33m(\u001b[0m\u001b[1;34m'temporary.csv'\u001b[0m\u001b[1;33m)\u001b[0m\u001b[1;33m\u001b[0m\u001b[1;33m\u001b[0m\u001b[0m\n\u001b[0m",
      "\u001b[1;31mNameError\u001b[0m: name 'temp_2' is not defined"
     ]
    }
   ],
   "source": [
    "temp_2.to_csv('temporary.csv')"
   ]
  },
  {
   "cell_type": "code",
   "execution_count": 5,
   "metadata": {},
   "outputs": [],
   "source": [
    "temp_2 = pd.read_csv('temporary.csv')\n",
    "temp_3 = temp_2.groupby(['person','offer_type']).agg(\n",
    "    {\n",
    "        'offer completed': sum,\n",
    "        'offer received': sum,\n",
    "        'offer viewed': sum,\n",
    "        'age': 'last',\n",
    "        'income':'last',\n",
    "        'days':'last',\n",
    "        'gender':'last',\n",
    "    }\n",
    ").reset_index()"
   ]
  },
  {
   "cell_type": "code",
   "execution_count": 6,
   "metadata": {},
   "outputs": [
    {
     "data": {
      "text/html": [
       "<div>\n",
       "<style scoped>\n",
       "    .dataframe tbody tr th:only-of-type {\n",
       "        vertical-align: middle;\n",
       "    }\n",
       "\n",
       "    .dataframe tbody tr th {\n",
       "        vertical-align: top;\n",
       "    }\n",
       "\n",
       "    .dataframe thead th {\n",
       "        text-align: right;\n",
       "    }\n",
       "</style>\n",
       "<table border=\"1\" class=\"dataframe\">\n",
       "  <thead>\n",
       "    <tr style=\"text-align: right;\">\n",
       "      <th></th>\n",
       "      <th>person</th>\n",
       "      <th>offer_type</th>\n",
       "      <th>offer completed</th>\n",
       "      <th>offer received</th>\n",
       "      <th>offer viewed</th>\n",
       "      <th>age</th>\n",
       "      <th>income</th>\n",
       "      <th>days</th>\n",
       "      <th>gender</th>\n",
       "    </tr>\n",
       "  </thead>\n",
       "  <tbody>\n",
       "    <tr>\n",
       "      <th>0</th>\n",
       "      <td>0009655768c64bdeb2e877511632db8f</td>\n",
       "      <td>bogo</td>\n",
       "      <td>1</td>\n",
       "      <td>1</td>\n",
       "      <td>1</td>\n",
       "      <td>33</td>\n",
       "      <td>72000.000000</td>\n",
       "      <td>1235</td>\n",
       "      <td>M</td>\n",
       "    </tr>\n",
       "    <tr>\n",
       "      <th>1</th>\n",
       "      <td>0009655768c64bdeb2e877511632db8f</td>\n",
       "      <td>discount</td>\n",
       "      <td>2</td>\n",
       "      <td>2</td>\n",
       "      <td>1</td>\n",
       "      <td>33</td>\n",
       "      <td>72000.000000</td>\n",
       "      <td>1235</td>\n",
       "      <td>M</td>\n",
       "    </tr>\n",
       "    <tr>\n",
       "      <th>2</th>\n",
       "      <td>0009655768c64bdeb2e877511632db8f</td>\n",
       "      <td>informational</td>\n",
       "      <td>2</td>\n",
       "      <td>2</td>\n",
       "      <td>2</td>\n",
       "      <td>33</td>\n",
       "      <td>72000.000000</td>\n",
       "      <td>1235</td>\n",
       "      <td>M</td>\n",
       "    </tr>\n",
       "    <tr>\n",
       "      <th>3</th>\n",
       "      <td>00116118485d4dfda04fdbaba9a87b5c</td>\n",
       "      <td>bogo</td>\n",
       "      <td>0</td>\n",
       "      <td>2</td>\n",
       "      <td>2</td>\n",
       "      <td>118</td>\n",
       "      <td>65404.991568</td>\n",
       "      <td>866</td>\n",
       "      <td>O</td>\n",
       "    </tr>\n",
       "    <tr>\n",
       "      <th>4</th>\n",
       "      <td>0011e0d4e6b944f998e987f904e8c1e5</td>\n",
       "      <td>bogo</td>\n",
       "      <td>1</td>\n",
       "      <td>1</td>\n",
       "      <td>1</td>\n",
       "      <td>40</td>\n",
       "      <td>57000.000000</td>\n",
       "      <td>972</td>\n",
       "      <td>O</td>\n",
       "    </tr>\n",
       "  </tbody>\n",
       "</table>\n",
       "</div>"
      ],
      "text/plain": [
       "                             person     offer_type  offer completed  \\\n",
       "0  0009655768c64bdeb2e877511632db8f           bogo                1   \n",
       "1  0009655768c64bdeb2e877511632db8f       discount                2   \n",
       "2  0009655768c64bdeb2e877511632db8f  informational                2   \n",
       "3  00116118485d4dfda04fdbaba9a87b5c           bogo                0   \n",
       "4  0011e0d4e6b944f998e987f904e8c1e5           bogo                1   \n",
       "\n",
       "   offer received  offer viewed  age        income  days gender  \n",
       "0               1             1   33  72000.000000  1235      M  \n",
       "1               2             1   33  72000.000000  1235      M  \n",
       "2               2             2   33  72000.000000  1235      M  \n",
       "3               2             2  118  65404.991568   866      O  \n",
       "4               1             1   40  57000.000000   972      O  "
      ]
     },
     "execution_count": 6,
     "metadata": {},
     "output_type": "execute_result"
    }
   ],
   "source": [
    "temp_3.head()"
   ]
  },
  {
   "cell_type": "code",
   "execution_count": 7,
   "metadata": {},
   "outputs": [
    {
     "name": "stdout",
     "output_type": "stream",
     "text": [
      "<class 'pandas.core.frame.DataFrame'>\n",
      "RangeIndex: 40484 entries, 0 to 40483\n",
      "Data columns (total 12 columns):\n",
      " #   Column           Non-Null Count  Dtype  \n",
      "---  ------           --------------  -----  \n",
      " 0   person           40484 non-null  object \n",
      " 1   offer_type       40484 non-null  object \n",
      " 2   offer completed  40484 non-null  int64  \n",
      " 3   offer received   40484 non-null  int64  \n",
      " 4   offer viewed     40484 non-null  int64  \n",
      " 5   age              40484 non-null  int64  \n",
      " 6   income           40484 non-null  float64\n",
      " 7   days             40484 non-null  int64  \n",
      " 8   F                40484 non-null  uint8  \n",
      " 9   M                40484 non-null  uint8  \n",
      " 10  O                40484 non-null  uint8  \n",
      " 11  percent          40484 non-null  float64\n",
      "dtypes: float64(2), int64(5), object(2), uint8(3)\n",
      "memory usage: 2.9+ MB\n"
     ]
    }
   ],
   "source": [
    "temp_3 = pd.concat([temp_3,pd.get_dummies(temp_3['gender'])], axis = 1)\n",
    "temp_3['percent'] = temp_3['offer completed']/temp_3['offer received']\n",
    "temp_3.drop(['gender'], axis = 1, inplace = True)\n",
    "temp_3.info()"
   ]
  },
  {
   "cell_type": "code",
   "execution_count": 8,
   "metadata": {},
   "outputs": [],
   "source": [
    "temp_3['useful'] = temp_3['percent'].apply(lambda val: 1 if val > 0.7 else 0) "
   ]
  },
  {
   "cell_type": "code",
   "execution_count": 9,
   "metadata": {},
   "outputs": [
    {
     "data": {
      "text/html": [
       "<div>\n",
       "<style scoped>\n",
       "    .dataframe tbody tr th:only-of-type {\n",
       "        vertical-align: middle;\n",
       "    }\n",
       "\n",
       "    .dataframe tbody tr th {\n",
       "        vertical-align: top;\n",
       "    }\n",
       "\n",
       "    .dataframe thead th {\n",
       "        text-align: right;\n",
       "    }\n",
       "</style>\n",
       "<table border=\"1\" class=\"dataframe\">\n",
       "  <thead>\n",
       "    <tr style=\"text-align: right;\">\n",
       "      <th></th>\n",
       "      <th>person</th>\n",
       "      <th>offer_type</th>\n",
       "      <th>offer completed</th>\n",
       "      <th>offer received</th>\n",
       "      <th>offer viewed</th>\n",
       "      <th>age</th>\n",
       "      <th>income</th>\n",
       "      <th>days</th>\n",
       "      <th>F</th>\n",
       "      <th>M</th>\n",
       "      <th>O</th>\n",
       "      <th>percent</th>\n",
       "      <th>useful</th>\n",
       "    </tr>\n",
       "  </thead>\n",
       "  <tbody>\n",
       "    <tr>\n",
       "      <th>0</th>\n",
       "      <td>0009655768c64bdeb2e877511632db8f</td>\n",
       "      <td>bogo</td>\n",
       "      <td>1</td>\n",
       "      <td>1</td>\n",
       "      <td>1</td>\n",
       "      <td>33</td>\n",
       "      <td>72000.000000</td>\n",
       "      <td>1235</td>\n",
       "      <td>0</td>\n",
       "      <td>1</td>\n",
       "      <td>0</td>\n",
       "      <td>1.0</td>\n",
       "      <td>1</td>\n",
       "    </tr>\n",
       "    <tr>\n",
       "      <th>1</th>\n",
       "      <td>0009655768c64bdeb2e877511632db8f</td>\n",
       "      <td>discount</td>\n",
       "      <td>2</td>\n",
       "      <td>2</td>\n",
       "      <td>1</td>\n",
       "      <td>33</td>\n",
       "      <td>72000.000000</td>\n",
       "      <td>1235</td>\n",
       "      <td>0</td>\n",
       "      <td>1</td>\n",
       "      <td>0</td>\n",
       "      <td>1.0</td>\n",
       "      <td>1</td>\n",
       "    </tr>\n",
       "    <tr>\n",
       "      <th>2</th>\n",
       "      <td>0009655768c64bdeb2e877511632db8f</td>\n",
       "      <td>informational</td>\n",
       "      <td>2</td>\n",
       "      <td>2</td>\n",
       "      <td>2</td>\n",
       "      <td>33</td>\n",
       "      <td>72000.000000</td>\n",
       "      <td>1235</td>\n",
       "      <td>0</td>\n",
       "      <td>1</td>\n",
       "      <td>0</td>\n",
       "      <td>1.0</td>\n",
       "      <td>1</td>\n",
       "    </tr>\n",
       "    <tr>\n",
       "      <th>3</th>\n",
       "      <td>00116118485d4dfda04fdbaba9a87b5c</td>\n",
       "      <td>bogo</td>\n",
       "      <td>0</td>\n",
       "      <td>2</td>\n",
       "      <td>2</td>\n",
       "      <td>118</td>\n",
       "      <td>65404.991568</td>\n",
       "      <td>866</td>\n",
       "      <td>0</td>\n",
       "      <td>0</td>\n",
       "      <td>1</td>\n",
       "      <td>0.0</td>\n",
       "      <td>0</td>\n",
       "    </tr>\n",
       "    <tr>\n",
       "      <th>4</th>\n",
       "      <td>0011e0d4e6b944f998e987f904e8c1e5</td>\n",
       "      <td>bogo</td>\n",
       "      <td>1</td>\n",
       "      <td>1</td>\n",
       "      <td>1</td>\n",
       "      <td>40</td>\n",
       "      <td>57000.000000</td>\n",
       "      <td>972</td>\n",
       "      <td>0</td>\n",
       "      <td>0</td>\n",
       "      <td>1</td>\n",
       "      <td>1.0</td>\n",
       "      <td>1</td>\n",
       "    </tr>\n",
       "  </tbody>\n",
       "</table>\n",
       "</div>"
      ],
      "text/plain": [
       "                             person     offer_type  offer completed  \\\n",
       "0  0009655768c64bdeb2e877511632db8f           bogo                1   \n",
       "1  0009655768c64bdeb2e877511632db8f       discount                2   \n",
       "2  0009655768c64bdeb2e877511632db8f  informational                2   \n",
       "3  00116118485d4dfda04fdbaba9a87b5c           bogo                0   \n",
       "4  0011e0d4e6b944f998e987f904e8c1e5           bogo                1   \n",
       "\n",
       "   offer received  offer viewed  age        income  days  F  M  O  percent  \\\n",
       "0               1             1   33  72000.000000  1235  0  1  0      1.0   \n",
       "1               2             1   33  72000.000000  1235  0  1  0      1.0   \n",
       "2               2             2   33  72000.000000  1235  0  1  0      1.0   \n",
       "3               2             2  118  65404.991568   866  0  0  1      0.0   \n",
       "4               1             1   40  57000.000000   972  0  0  1      1.0   \n",
       "\n",
       "   useful  \n",
       "0       1  \n",
       "1       1  \n",
       "2       1  \n",
       "3       0  \n",
       "4       1  "
      ]
     },
     "execution_count": 9,
     "metadata": {},
     "output_type": "execute_result"
    }
   ],
   "source": [
    "temp_3.head()"
   ]
  },
  {
   "cell_type": "markdown",
   "metadata": {},
   "source": [
    "## 2.3 Model Implementation "
   ]
  },
  {
   "cell_type": "markdown",
   "metadata": {},
   "source": [
    "In this project, we concern about the question which demographic groups respond best to which offer type? What is the best offer strategy for Starbucks. And we have to generate the above chart, which includes the information customer response to each type of reward offer. We will use Accuracy as the main metric, which is much easier and intuitive for the decision maker to make the final decision. Compared to F1 score, precision, reall or specificity, accuracy gives a relatively more direct perspective "
   ]
  },
  {
   "cell_type": "code",
   "execution_count": 10,
   "metadata": {},
   "outputs": [],
   "source": [
    "# split the chart into three part, 'bogo','discount','informational'\n",
    "temp_bogo = temp_3[temp_3['offer_type']=='bogo']\n",
    "temp_discount = temp_3[temp_3['offer_type']=='discount']\n",
    "temp_informational = temp_3[temp_3['offer_type']=='informational']\n",
    "X_bogo = temp_bogo.iloc[:,5:11]\n",
    "y_bogo = temp_bogo.iloc[:,12]\n",
    "X_discount = temp_discount.iloc[:,5:11]\n",
    "y_discount = temp_discount.iloc[:,12]\n",
    "X_informational = temp_informational.iloc[:,5:11]\n",
    "y_informational = temp_informational.iloc[:,12]"
   ]
  },
  {
   "cell_type": "code",
   "execution_count": 11,
   "metadata": {},
   "outputs": [],
   "source": [
    "# splilt the data set into training and testing \n",
    "X_train_bogo, X_test_bogo, y_train_bogo, y_test_bogo = \\\n",
    "train_test_split(X_bogo, y_bogo, test_size =0.3, random_state = 16)\n",
    "\n",
    "X_train_discount, X_test_discount, y_train_discount, y_test_discount = \\\n",
    "train_test_split(X_discount, y_discount, test_size =0.3, random_state = 16)\n",
    "\n",
    "X_train_informational, X_test_informational, y_train_informational, y_test_informational = \\\n",
    "train_test_split(X_informational, y_informational, test_size =0.3, random_state = 16)\n"
   ]
  },
  {
   "cell_type": "markdown",
   "metadata": {},
   "source": [
    "### 2.3.1 KNN method "
   ]
  },
  {
   "cell_type": "markdown",
   "metadata": {},
   "source": [
    "The proximity algorithm, or K-Nearest Neighbor (K-NearestNeighbor) classification algorithm is one of the simplest methods in data mining classification technology. The so-called K nearest neighbors means K nearest neighbors, which means that each sample can be represented by its K nearest neighbors. The nearest neighbor algorithm is a method to classify each record in the data set. The independent variables can include many, such as age, gender, income, etc. We can classify the neighbors according to the independent variables to determine whether customers will be affected by Starbucks rewards"
   ]
  },
  {
   "cell_type": "code",
   "execution_count": 12,
   "metadata": {},
   "outputs": [],
   "source": [
    "#KNN for bogo\n",
    "KNN_bogo = KNeighborsClassifier(algorithm='auto', leaf_size=30, metric='minkowski',\\\n",
    "           metric_params=None, n_jobs=1, n_neighbors=5, p=2,\\\n",
    "           weights='uniform')\n",
    "KNN_bogo.fit(X_train_bogo, y_train_bogo)\n",
    "y_pred_bogo = KNN_bogo.predict(X_test_bogo)\n",
    "\n",
    "#KNN for discount\n",
    "KNN_discount = KNeighborsClassifier(algorithm='auto', leaf_size=30, metric='minkowski',\\\n",
    "           metric_params=None, n_jobs=1, n_neighbors=5, p=2,\\\n",
    "           weights='uniform')\n",
    "KNN_discount.fit(X_train_discount, y_train_discount)\n",
    "y_pred_discount = KNN_discount.predict(X_test_discount)\n",
    "                                    \n",
    "#KNN for informational offer\n",
    "KNN_informational = KNeighborsClassifier(algorithm='auto', leaf_size=30, metric='minkowski',\\\n",
    "           metric_params=None, n_jobs=1, n_neighbors=5, p=2,\\\n",
    "           weights='uniform')\n",
    "KNN_informational.fit(X_train_informational, y_train_informational)\n",
    "y_pred_informational = KNN_informational.predict(X_test_informational)"
   ]
  },
  {
   "cell_type": "code",
   "execution_count": 13,
   "metadata": {},
   "outputs": [
    {
     "name": "stdout",
     "output_type": "stream",
     "text": [
      "Bogo offer prediction accuracy:  0.6823032458870609\n",
      "Discount offer prediction accuracy:  0.6619090098126673\n",
      "Informational offer prediction accuracy:  0.7026856240126382\n"
     ]
    }
   ],
   "source": [
    "print('Bogo offer prediction accuracy: ',accuracy_score(y_test_bogo, y_pred_bogo))\n",
    "print('Discount offer prediction accuracy: ',accuracy_score(y_test_discount, y_pred_discount))\n",
    "print('Informational offer prediction accuracy: ',accuracy_score(y_test_informational, y_pred_informational))"
   ]
  },
  {
   "cell_type": "markdown",
   "metadata": {},
   "source": [
    "### 2.3.2 Logistic Regression method "
   ]
  },
  {
   "cell_type": "markdown",
   "metadata": {},
   "source": [
    "Logistic regression is a generalized linear regression analysis model, often used in data mining, automatic disease diagnosis, economic forecasting and other fields. For example, explore the risk factors that cause diseases, and predict the probability of disease occurrence based on the risk factors. Taking Starbucks discount analysis as an example, two groups of people are selected, one group is the group affected by the coupon, the other group is the group not affected by the coupon, and the two groups must have different physical signs and lifestyles. Therefore, the dependent variable is whether it will be affected by the coupon, the value is \"yes\" or \"no\", and the independent variables can include many, such as age, gender, income, etc."
   ]
  },
  {
   "cell_type": "code",
   "execution_count": 14,
   "metadata": {},
   "outputs": [],
   "source": [
    "#Logistic regression for bogo\n",
    "log_bogo = LogisticRegression(C=1.0, class_weight=None, dual=False, fit_intercept=True,\n",
    "          intercept_scaling=1, max_iter=100, multi_class='ovr', n_jobs=1,\n",
    "          penalty='l2', random_state=None, solver='liblinear', tol=0.0001,\n",
    "          verbose=0, warm_start=False)\n",
    "log_bogo.fit(X_train_bogo, y_train_bogo)\n",
    "y_pred_bogo = log_bogo.predict(X_test_bogo)\n",
    "\n",
    "#Logistic regression for discount\n",
    "log_discount = LogisticRegression(C=1.0, class_weight=None, dual=False, fit_intercept=True,\n",
    "          intercept_scaling=1, max_iter=100, multi_class='ovr', n_jobs=1,\n",
    "          penalty='l2', random_state=None, solver='liblinear', tol=0.0001,\n",
    "          verbose=0, warm_start=False)\n",
    "log_discount.fit(X_train_discount, y_train_discount)\n",
    "y_pred_discount = log_discount.predict(X_test_discount)\n",
    "                                    \n",
    "#Logistic regression for informational offer\n",
    "log_informational = LogisticRegression(C=1.0, class_weight=None, dual=False, fit_intercept=True,\n",
    "          intercept_scaling=1, max_iter=100, multi_class='ovr', n_jobs=1,\n",
    "          penalty='l2', random_state=None, solver='liblinear', tol=0.0001,\n",
    "          verbose=0, warm_start=False)\n",
    "log_informational.fit(X_train_informational, y_train_informational)\n",
    "y_pred_informational = log_informational.predict(X_test_informational)"
   ]
  },
  {
   "cell_type": "code",
   "execution_count": 15,
   "metadata": {},
   "outputs": [
    {
     "name": "stdout",
     "output_type": "stream",
     "text": [
      "Bogo offer prediction accuracy:  0.5927078701645175\n",
      "Discount offer prediction accuracy:  0.6853256021409456\n",
      "Informational offer prediction accuracy:  0.7424960505529226\n"
     ]
    }
   ],
   "source": [
    "print('Bogo offer prediction accuracy: ',accuracy_score(y_test_bogo, y_pred_bogo))\n",
    "print('Discount offer prediction accuracy: ',accuracy_score(y_test_discount, y_pred_discount))\n",
    "print('Informational offer prediction accuracy: ',accuracy_score(y_test_informational, y_pred_informational))"
   ]
  },
  {
   "cell_type": "markdown",
   "metadata": {},
   "source": [
    "### 2.3.3 Random Forest Classifier "
   ]
  },
  {
   "cell_type": "markdown",
   "metadata": {},
   "source": [
    "Random forest is a classifier that contains multiple decision trees, and its output category is determined by the mode of the output category of individual trees. Can be used in this project to analyze whether customers will be affected by Starbucks offers"
   ]
  },
  {
   "cell_type": "code",
   "execution_count": 16,
   "metadata": {},
   "outputs": [],
   "source": [
    "# Random Forest Classifier_Bogo \n",
    "RF_bogo = RandomForestClassifier(max_depth=5,min_samples_leaf=8, min_samples_split=20,\\\n",
    "                              min_weight_fraction_leaf=0.0, random_state=16)\n",
    "RF_bogo.fit(X_train_bogo, y_train_bogo)\n",
    "y_pred_bogo = RF_bogo.predict(X_test_bogo)\n",
    "\n",
    "# Random Forest Classifier_Discount \n",
    "RF_discount = RandomForestClassifier(max_depth=5,min_samples_leaf=8, min_samples_split=20,\\\n",
    "                              min_weight_fraction_leaf=0.0, random_state=16)\n",
    "RF_discount.fit(X_train_discount, y_train_discount)\n",
    "y_pred_discount = RF_discount.predict(X_test_discount)\n",
    "\n",
    "# Random Forest Classifier_Informational\n",
    "RF_informational = RandomForestClassifier(max_depth=5,min_samples_leaf=8, min_samples_split=20,\\\n",
    "                              min_weight_fraction_leaf=0.0, random_state=16)\n",
    "RF_informational.fit(X_train_informational, y_train_informational)\n",
    "y_pred_informational = RF_informational.predict(X_test_informational)"
   ]
  },
  {
   "cell_type": "code",
   "execution_count": 17,
   "metadata": {},
   "outputs": [
    {
     "name": "stdout",
     "output_type": "stream",
     "text": [
      "Bogo offer prediction accuracy:  0.7289906625166741\n",
      "Discount offer prediction accuracy:  0.7143175735950045\n",
      "Informational offer prediction accuracy:  0.7424960505529226\n"
     ]
    }
   ],
   "source": [
    "print('Bogo offer prediction accuracy: ',accuracy_score(y_test_bogo, y_pred_bogo))\n",
    "print('Discount offer prediction accuracy: ',accuracy_score(y_test_discount, y_pred_discount))\n",
    "print('Informational offer prediction accuracy: ',accuracy_score(y_test_informational, y_pred_informational))"
   ]
  },
  {
   "cell_type": "markdown",
   "metadata": {},
   "source": [
    "### 2.3.4 Decision Tree Classifier "
   ]
  },
  {
   "cell_type": "markdown",
   "metadata": {},
   "source": [
    "Decision Tree is based on the known probability of occurrence of various situations, by constructing a decision tree to obtain the probability that the expected value of the net present value is greater than or equal to zero, evaluate project risk, and determine its feasibility. A graphical method of intuitive use of probability analysis, which can be used in this project to understand if a specific customer would be affected by the reward offers."
   ]
  },
  {
   "cell_type": "code",
   "execution_count": 18,
   "metadata": {},
   "outputs": [],
   "source": [
    "#Decision Tree Classifier_Bogo \n",
    "tree_bogo = DecisionTreeClassifier(max_depth=5,min_samples_leaf=8, min_samples_split=20,\\\n",
    "                              min_weight_fraction_leaf=0.0, random_state=16)\n",
    "tree_bogo.fit(X_train_bogo, y_train_bogo)\n",
    "y_pred_bogo = tree_bogo.predict(X_test_bogo)\n",
    "\n",
    "#Decision Tree Classifier_Discount \n",
    "tree_discount = DecisionTreeClassifier(max_depth=5,min_samples_leaf=8, min_samples_split=20,\\\n",
    "                              min_weight_fraction_leaf=0.0, random_state=16)\n",
    "tree_discount.fit(X_train_discount, y_train_discount)\n",
    "y_pred_discount = tree_discount.predict(X_test_discount)\n",
    "\n",
    "#Decision Tree Classifier_Informational\n",
    "tree_informational = DecisionTreeClassifier(max_depth=5,min_samples_leaf=8, min_samples_split=20,\\\n",
    "                              min_weight_fraction_leaf=0.0, random_state=16)\n",
    "tree_informational.fit(X_train_informational, y_train_informational)\n",
    "y_pred_informational = tree_informational.predict(X_test_informational)"
   ]
  },
  {
   "cell_type": "code",
   "execution_count": 19,
   "metadata": {},
   "outputs": [
    {
     "name": "stdout",
     "output_type": "stream",
     "text": [
      "Bogo offer prediction accuracy:  0.7269897732325478\n",
      "Discount offer prediction accuracy:  0.7163247100802854\n",
      "Informational offer prediction accuracy:  0.7399684044233807\n"
     ]
    }
   ],
   "source": [
    "print('Bogo offer prediction accuracy: ',accuracy_score(y_test_bogo, y_pred_bogo))\n",
    "print('Discount offer prediction accuracy: ',accuracy_score(y_test_discount, y_pred_discount))\n",
    "print('Informational offer prediction accuracy: ',accuracy_score(y_test_informational, y_pred_informational))"
   ]
  },
  {
   "cell_type": "markdown",
   "metadata": {},
   "source": [
    "Looks like Decision Tree Classifier has a higher prediction rate compared to the other methods"
   ]
  },
  {
   "cell_type": "markdown",
   "metadata": {},
   "source": [
    "# 3. Results "
   ]
  },
  {
   "cell_type": "markdown",
   "metadata": {},
   "source": [
    "## 3.1 Model Evaluation and Validation "
   ]
  },
  {
   "cell_type": "code",
   "execution_count": 38,
   "metadata": {},
   "outputs": [
    {
     "name": "stdout",
     "output_type": "stream",
     "text": [
      "Bogo offer prediction accuracy:  0.7269897732325478\n",
      "Discount offer prediction accuracy:  0.7163247100802854\n",
      "Informational offer prediction accuracy:  0.7399684044233807\n"
     ]
    }
   ],
   "source": [
    "print('Bogo offer prediction accuracy: ',accuracy_score(y_test_bogo, y_pred_bogo))\n",
    "print('Discount offer prediction accuracy: ',accuracy_score(y_test_discount, y_pred_discount))\n",
    "print('Informational offer prediction accuracy: ',accuracy_score(y_test_informational, y_pred_informational))"
   ]
  },
  {
   "cell_type": "code",
   "execution_count": 39,
   "metadata": {},
   "outputs": [
    {
     "data": {
      "text/plain": [
       "array([[1980,  685],\n",
       "       [ 543, 1290]], dtype=int64)"
      ]
     },
     "execution_count": 39,
     "metadata": {},
     "output_type": "execute_result"
    }
   ],
   "source": [
    "confusion_matrix(y_test_bogo, y_pred_bogo)"
   ]
  },
  {
   "cell_type": "markdown",
   "metadata": {},
   "source": [
    "The confusion matrix shown above is the bogo offer estimation, the columns means the prediction and the rows mean the ground truth (the first column and first row is 0, which means the the user won't be affected by the bogo offer, the second column and second row is 0, which means the the user will be affected by the bogo offer). As can be seen, take the Decision tree classifier as an exapmle, the prediction accuracy is as high as 73%. By looking the the confusion matrix, we know that the people who will not be affected by the bogo offer is 1980 + 685 = 2665 and the number of customers who will be affected by the bogo offer is 543 + 1290 = 1833. the accuracy of our prediction is (1980 + 1290)/(543 + 685 + 1980 + 1290) = ~0.73."
   ]
  },
  {
   "cell_type": "code",
   "execution_count": 20,
   "metadata": {},
   "outputs": [
    {
     "data": {
      "image/png": "[encoded data removed]",
      "text/plain": [
       "<Figure size 720x180 with 6 Axes>"
      ]
     },
     "metadata": {
      "needs_background": "light"
     },
     "output_type": "display_data"
    }
   ],
   "source": [
    "# Plot the confusion matrix for each type of offers\n",
    "plt.figure(figsize= [10,2.5])\n",
    "\n",
    "plt.subplot(1,3,1)\n",
    "sb.heatmap(confusion_matrix(y_test_bogo, y_pred_bogo),cmap=\"BuPu\")\n",
    "plt.title('Bogo')\n",
    "plt.xlabel('Predict')\n",
    "plt.ylabel('Ground Truth')\n",
    "\n",
    "plt.subplot(1,3,2)\n",
    "sb.heatmap(confusion_matrix(y_test_discount, y_pred_discount),cmap=\"BuPu\")\n",
    "plt.title('Discount')\n",
    "plt.xlabel('Predict')\n",
    "plt.ylabel('Ground Truth')\n",
    "\n",
    "plt.subplot(1,3,3)\n",
    "sb.heatmap(confusion_matrix(y_test_informational, y_pred_informational),cmap=\"BuPu\")\n",
    "plt.title('Informational')\n",
    "plt.xlabel('Predict')\n",
    "plt.ylabel('Ground Truth')\n",
    "\n",
    "plt.tight_layout(pad=0.4, w_pad=4.0, h_pad=3.0)"
   ]
  },
  {
   "cell_type": "code",
   "execution_count": 21,
   "metadata": {},
   "outputs": [
    {
     "data": {
      "text/plain": [
       "Text(0.5, 1.0, 'Informational')"
      ]
     },
     "execution_count": 21,
     "metadata": {},
     "output_type": "execute_result"
    },
    {
     "data": {
      "image/png": "[encoded data removed]",
      "text/plain": [
       "<Figure size 720x180 with 3 Axes>"
      ]
     },
     "metadata": {
      "needs_background": "light"
     },
     "output_type": "display_data"
    }
   ],
   "source": [
    "# Identify the most impacting metrics among Age, Income and Days\n",
    "\n",
    "plt.figure(figsize= [10,2.5])\n",
    "\n",
    "plt.subplot(1,3,1)\n",
    "Impact_factor = tree_bogo.feature_importances_[:3]\n",
    "Metrics = X_train_bogo.columns.values[:3]\n",
    "plt.bar(Metrics,Impact_factor)\n",
    "plt.xlabel('Metrics list')\n",
    "plt.ylabel('Impact factor')\n",
    "plt.title('Bogo')\n",
    "\n",
    "plt.subplot(1,3,2)\n",
    "Impact_factor = tree_discount.feature_importances_[:3]\n",
    "Metrics = X_train_bogo.columns.values[:3]\n",
    "plt.bar(Metrics,Impact_factor)\n",
    "plt.xlabel('Metrics list')\n",
    "plt.ylabel('Impact factor')\n",
    "plt.title('discount')\n",
    "\n",
    "plt.subplot(1,3,3)\n",
    "Impact_factor = tree_informational.feature_importances_[:3]\n",
    "Metrics = X_train_bogo.columns.values[:3]\n",
    "plt.bar(Metrics,Impact_factor)\n",
    "plt.xlabel('Metrics list')\n",
    "plt.ylabel('Impact factor')\n",
    "plt.tight_layout(pad=0.4, w_pad=4.0, h_pad=3.0)\n",
    "plt.title('Informational')"
   ]
  },
  {
   "cell_type": "markdown",
   "metadata": {},
   "source": [
    "From the Confusion matrixes for the bogo, discount and informational offers, we can clearly see that the Decision Tree Classifier has relatively good estimation on whether the customers would be affected by affected by Bogo and Discount. However, it is very clear that since most customers would not be affected by the informational offer, the model would prefer to believing that people will not be affected by this type of offer. "
   ]
  },
  {
   "cell_type": "markdown",
   "metadata": {},
   "source": [
    "### 3.2 Cross Validation "
   ]
  },
  {
   "cell_type": "markdown",
   "metadata": {},
   "source": [
    "we will do cross validation on the testing data, the data will be cut into 5 part "
   ]
  },
  {
   "cell_type": "code",
   "execution_count": 37,
   "metadata": {},
   "outputs": [
    {
     "data": {
      "image/png": "[encoded data removed]",
      "text/plain": [
       "<Figure size 360x864 with 3 Axes>"
      ]
     },
     "metadata": {
      "needs_background": "light"
     },
     "output_type": "display_data"
    }
   ],
   "source": [
    "#using Cross Validation to test the robustness of the model solution\n",
    "plt.figure(figsize= [5,12])\n",
    "\n",
    "plt.subplot(3,1,1)\n",
    "scores = cross_validate(tree_bogo, X_test_bogo, y_test_bogo,cv=5, return_train_score=False)\n",
    "x_cross = [1,2,3,4,5]\n",
    "plt.bar(x_cross, scores['test_score'])\n",
    "plt.xlabel('Cross_validation')\n",
    "plt.ylabel('Accuracy')\n",
    "plt.title('Bogo')\n",
    "\n",
    "\n",
    "plt.subplot(3,1,2)\n",
    "scores = cross_validate(tree_discount, X_test_discount, y_test_discount,cv=5, return_train_score=False)\n",
    "x_cross = [1,2,3,4,5]\n",
    "plt.bar(x_cross, scores['test_score'])\n",
    "plt.xlabel('Cross_validation')\n",
    "plt.ylabel('Accuracy')\n",
    "plt.title('Discount')\n",
    "\n",
    "plt.subplot(3,1,3)\n",
    "scores = cross_validate(tree_informational, X_test_informational, y_test_informational,cv=5, return_train_score=False)\n",
    "x_cross = [1,2,3,4,5]\n",
    "plt.bar(x_cross, scores['test_score'])\n",
    "plt.xlabel('Cross_validation')\n",
    "plt.ylabel('Accuracy')\n",
    "plt.title('Informational')\n",
    "\n",
    "plt.tight_layout(pad=0.4, w_pad=4.0, h_pad=3.0)"
   ]
  },
  {
   "cell_type": "markdown",
   "metadata": {},
   "source": [
    "It can be noted that the robustness of our model is very high."
   ]
  },
  {
   "cell_type": "markdown",
   "metadata": {},
   "source": [
    "### 3.3 Model Improvement "
   ]
  },
  {
   "cell_type": "markdown",
   "metadata": {},
   "source": [
    "We will use GridSearchCV to see if we can slightly improve the prediction accuracy of the Decision Tree classifier"
   ]
  },
  {
   "cell_type": "code",
   "execution_count": 64,
   "metadata": {},
   "outputs": [
    {
     "data": {
      "text/plain": [
       "{'ccp_alpha': 0.0,\n",
       " 'class_weight': None,\n",
       " 'criterion': 'gini',\n",
       " 'max_depth': 5,\n",
       " 'max_features': None,\n",
       " 'max_leaf_nodes': None,\n",
       " 'min_impurity_decrease': 0.0,\n",
       " 'min_impurity_split': None,\n",
       " 'min_samples_leaf': 8,\n",
       " 'min_samples_split': 20,\n",
       " 'min_weight_fraction_leaf': 0.0,\n",
       " 'presort': 'deprecated',\n",
       " 'random_state': 16,\n",
       " 'splitter': 'best'}"
      ]
     },
     "execution_count": 64,
     "metadata": {},
     "output_type": "execute_result"
    }
   ],
   "source": [
    "#getting the Decision Tree classifier\n",
    "tree_bogo.get_params()"
   ]
  },
  {
   "cell_type": "code",
   "execution_count": 71,
   "metadata": {},
   "outputs": [
    {
     "name": "stdout",
     "output_type": "stream",
     "text": [
      "The best parameters for bogo offer prediction are:  {'criterion': 'entropy', 'max_depth': 5, 'min_samples_leaf': 6, 'min_samples_split': 10, 'splitter': 'best'}\n",
      "The best score is:  0.7333714503525823\n",
      "Bogo accuracy score is:  0.7269897732325478\n"
     ]
    }
   ],
   "source": [
    "#GridsearchCV_Decision tree for bogo \n",
    "parameters = {\n",
    "    'criterion' : ['gini','entropy'],\n",
    "    'splitter' : ['best','random'],\n",
    "    'max_depth': [5,10,15,20],\n",
    "    'min_samples_leaf':[6,8,10,12],\n",
    "    'min_samples_split':[10,20,30]\n",
    "}\n",
    "grid_bogo = GridSearchCV(tree_bogo, param_grid = parameters, cv = 6)\n",
    "grid_bogo.fit(X_train_bogo,y_train_bogo)\n",
    "print(\"The best parameters for bogo offer prediction are: \", grid_bogo.best_params_)\n",
    "print(\"The best score is: \",grid_bogo.best_score_ )\n",
    "best_model=grid_bogo.best_estimator_\n",
    "y_pred_bogo = best_model.predict(X_test_bogo)\n",
    "print('Bogo accuracy score is: ', accuracy_score(y_test_bogo, y_pred_bogo))"
   ]
  },
  {
   "cell_type": "code",
   "execution_count": 75,
   "metadata": {},
   "outputs": [
    {
     "name": "stdout",
     "output_type": "stream",
     "text": [
      "The best parameters for discount offer prediction are:  {'criterion': 'gini', 'max_depth': 5, 'min_samples_leaf': 6, 'min_samples_split': 10, 'splitter': 'best'}\n",
      "The best score is:  0.720101134112685\n",
      "Discount accuracy score is:  0.7163247100802854\n"
     ]
    }
   ],
   "source": [
    "#GridsearchCV_Decision tree for discount offer \n",
    "parameters = {\n",
    "    'criterion' : ['gini','entropy'],\n",
    "    'splitter' : ['best','random'],\n",
    "    'max_depth': [5,10,15,20],\n",
    "    'min_samples_leaf':[6,8,10,12],\n",
    "    'min_samples_split':[10,20,30]\n",
    "}\n",
    "grid_discount = GridSearchCV(tree_discount, param_grid = parameters, cv = 6)\n",
    "grid_discount.fit(X_train_discount,y_train_discount)\n",
    "print(\"The best parameters for discount offer prediction are: \", grid_discount.best_params_)\n",
    "print(\"The best score is: \",grid_discount.best_score_ )\n",
    "best_model=grid_discount.best_estimator_\n",
    "y_pred_discount = best_model.predict(X_test_discount)\n",
    "print('Discount accuracy score is: ', accuracy_score(y_test_discount, y_pred_discount))"
   ]
  },
  {
   "cell_type": "code",
   "execution_count": 76,
   "metadata": {},
   "outputs": [
    {
     "name": "stdout",
     "output_type": "stream",
     "text": [
      "The best parameters for imformational offer prediction are:  {'criterion': 'entropy', 'max_depth': 5, 'min_samples_leaf': 10, 'min_samples_split': 10, 'splitter': 'best'}\n",
      "The best score is:  0.7487130123129013\n",
      "Informational offer accuracy score is:  0.7399684044233807\n"
     ]
    }
   ],
   "source": [
    "#GridsearchCV_Decision tree for informational offer \n",
    "parameters = {\n",
    "    'criterion' : ['gini','entropy'],\n",
    "    'splitter' : ['best','random'],\n",
    "    'max_depth': [5,10,15,20],\n",
    "    'min_samples_leaf':[6,8,10,12],\n",
    "    'min_samples_split':[10,20,30]\n",
    "}\n",
    "grid_informational = GridSearchCV(tree_informational, param_grid = parameters, cv = 6)\n",
    "grid_informational.fit(X_train_informational,y_train_informational)\n",
    "print(\"The best parameters for imformational offer prediction are: \", grid_informational.best_params_)\n",
    "print(\"The best score is: \",grid_informational.best_score_ )\n",
    "best_model=grid_informational.best_estimator_\n",
    "y_pred_informational = best_model.predict(X_test_informational)\n",
    "print('Informational offer accuracy score is: ', accuracy_score(y_test_informational, y_pred_informational))"
   ]
  },
  {
   "cell_type": "markdown",
   "metadata": {},
   "source": [
    "It can be concluded that the improvment is relatively small. "
   ]
  },
  {
   "cell_type": "markdown",
   "metadata": {},
   "source": [
    "## 3.3 Justification  "
   ]
  },
  {
   "cell_type": "markdown",
   "metadata": {},
   "source": [
    "In this data analysis project, the most important question we are concerned is Which demographic groups respond best to which offer type? What is the best offer strategy for Starbucks?\n",
    "\n",
    "According to our machine learning-based model analysis and data visualization based investigation, we know that Bogo offer is always with the largest expense and the informational offer is always with the lowest expense. Therefore, our final strategy is here.\n",
    "\n",
    "(1). Achieve the customer's information of age, income level, gender. etc..\n",
    "\n",
    "(2). Check if the customer would be affected by the informational offer with our tree_informational model. We will provide more informational offers to the customer when the system shows that the informational offer is impacting. If the customer would be affected by the informational offer, then we won't push the other two types of offers to him or her.\n",
    "\n",
    "(3). If the customer won't be impacted by the informational offer, then check if the customer would be affected by the discount offer with our tree_discount model, if the customer would be affected by the discount offer, then we won't push the Bogo offer to the customer.\n",
    "\n",
    "(4). If the customer will not be affected by the informational offer or discount offer, check if the customer would be affected by the Bogo offer, if the customer would be affected by the discount offer, then we would increase the bogo offer push for this customer, otherwise, we can assume that this customer won't be affected by any kind of reward offer, then we do not need to push any offer to him or her."
   ]
  },
  {
   "cell_type": "markdown",
   "metadata": {},
   "source": [
    "# 4. Conclusion "
   ]
  },
  {
   "cell_type": "markdown",
   "metadata": {},
   "source": [
    "In this project, l combine the offer portfolio, customer profile, and transaction data. Each row of this combined dataset will describe an offer's attributes, customer demographic data, and whether the offer was successful. Second, I build several machine learning models to analysis if the customers will be affected by the reward offers or not, I assess the accuracy to describe the performance of each my models. \n",
    "\n",
    "Decision Tree Classifier gave me the best accuracy of prediction\n",
    "Bogo offer prediction accuracy:  0.7269897732325478\n",
    "Discount offer prediction accuracy:  0.7163247100802854\n",
    "Informational offer prediction accuracy:  0.7399684044233807\n",
    "\n",
    "After that, I use cross-validation and confusion matrix to further validate the robustness of my model and found that my model is robust."
   ]
  },
  {
   "cell_type": "markdown",
   "metadata": {},
   "source": [
    "## 4.1 Reflection and future work"
   ]
  },
  {
   "cell_type": "markdown",
   "metadata": {},
   "source": [
    "In this data analysis, I did not consider some other parameters like the \"difficulty\" of the offer and the rewards level of each individual offer, I think this is the most important reason that our prediction accuracy is limited by ~70–75%. In the near future, I will include more metrics in this data analysis."
   ]
  }
 ],
 "metadata": {
  "kernelspec": {
   "display_name": "Python 3",
   "language": "python",
   "name": "python3"
  },
  "language_info": {
   "codemirror_mode": {
    "name": "ipython",
    "version": 3
   },
   "file_extension": ".py",
   "mimetype": "text/x-python",
   "name": "python",
   "nbconvert_exporter": "python",
   "pygments_lexer": "ipython3",
   "version": "3.8.3"
  }
 },
 "nbformat": 4,
 "nbformat_minor": 2
}
